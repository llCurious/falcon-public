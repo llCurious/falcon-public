{
 "cells": [
  {
   "cell_type": "code",
   "execution_count": 3,
   "metadata": {},
   "outputs": [],
   "source": [
    "import numpy as np\n",
    "import torch"
   ]
  },
  {
   "cell_type": "code",
   "execution_count": 4,
   "metadata": {},
   "outputs": [],
   "source": [
    "# Conigs\n",
    "HIGH_BIT = 64\n",
    "LOW_BIT = 32\n",
    "BITS = 32\n",
    "PRECISION = 13\n",
    "LOW_TYPE = np.uint32\n",
    "HIGH_TYPE = np.uint64\n",
    "\n",
    "MOD = 2 ** HIGH_BIT\n",
    "P = 37"
   ]
  },
  {
   "cell_type": "code",
   "execution_count": 9,
   "metadata": {},
   "outputs": [],
   "source": [
    "class RSS:\n",
    "    def __init__(self, st, rd, mod):\n",
    "        self.first = st\n",
    "        self.second = rd\n",
    "        self.mod = mod\n",
    "\n",
    "def float2fxp(fl_x, f):\n",
    "    int_x = fl_x * (2 ** f)\n",
    "    ring_x = int_x % MOD\n",
    "\n",
    "def RSS_share(x, mod):\n",
    "    x1 = np.random.randint(MOD, dtype='uint64')\n",
    "    x2 = np.random.randint(MOD, dtype='uint64')\n",
    "    x3 = (x - x1 - x2)\n",
    "    return RSS(x1, x2, mod), RSS(x2, x3, mod), RSS(x3, x1, mod)\n",
    "\n",
    "def RSS_reveal(x_s, mod):   \n",
    "    rs1, rs2, rs3 = x_s\n",
    "    return rs1.first + rs2.first + rs3.first\n",
    "\n",
    "def reduction(x_s):\n",
    "    rs1, rs2, rs3 = x_s\n",
    "    rs1_low = RSS(rs1.first.astype(LOW_TYPE), rs1.second.astype(LOW_TYPE), 2**LOW_BIT)\n",
    "    rs2_low = RSS(rs2.first.astype(LOW_TYPE), rs2.second.astype(LOW_TYPE), 2**LOW_BIT)\n",
    "    rs3_low = RSS(rs3.first.astype(LOW_TYPE), rs3.second.astype(LOW_TYPE), 2**LOW_BIT)\n",
    "    return rs1_low, rs2_low, rs3_low\n",
    "\n",
    "def extension(x_s):\n",
    "    rs1, rs2, rs3 = x_s\n",
    "    assert rs1.first.dtype == LOW_TYPE\n",
    "    rs1_low = RSS(rs1.first.astype(HIGH_TYPE), rs1.second.astype(HIGH_TYPE), 2**HIGH_BIT)\n",
    "    rs2_low = RSS(rs2.first.astype(HIGH_TYPE), rs2.second.astype(HIGH_TYPE), 2**HIGH_BIT)\n",
    "    rs3_low = RSS(rs3.first.astype(HIGH_TYPE), rs3.second.astype(HIGH_TYPE), 2**HIGH_BIT)\n",
    "    return rs1_low, rs2_low, rs3_low\n",
    "    \n",
    "def truncate(x_s):\n",
    "    rs1, rs2, rs3 = x_s\n",
    "    rs1_low = RSS(rs1.first.astype(np.uint32), rs1.second.astype(np.uint32), 2**LOW_BIT)\n",
    "    rs2_low = RSS(rs2.first.astype(np.uint32), rs2.second.astype(np.uint32), 2**LOW_BIT)\n",
    "    rs3_low = RSS(rs3.first.astype(np.uint32), rs3.second.astype(np.uint32), 2**LOW_BIT)\n",
    "    return rs1_low, rs2_low, rs3_low\n",
    "\n",
    "\n",
    "################   HELPER FUNCTIONS    ################\n",
    "def print_rs(x_rs):\n",
    "    print(f'first: {x_rs.first}, second: {x_rs.second}')\n",
    "\n",
    "def print_xs(x_s):\n",
    "    rs1, rs2, rs3 = x_s\n",
    "    print_rs(rs1)\n",
    "    print_rs(rs2)\n",
    "    print_rs(rs3)\n",
    "\n"
   ]
  },
  {
   "cell_type": "code",
   "execution_count": 11,
   "metadata": {},
   "outputs": [
    {
     "name": "stdout",
     "output_type": "stream",
     "text": [
      "first: 12289829493103614557, second: 9723484994372770474\n",
      "first: 9723484994372770474, second: 14880173659942718211\n",
      "first: 14880173659942718211, second: 12289829493103614557\n",
      "10\n",
      "first: 1183799901, second: 3429767850\n",
      "first: 3429767850, second: 3976366851\n",
      "first: 3976366851, second: 1183799901\n",
      "10\n",
      "first: 1183799901, second: 3429767850\n",
      "first: 3429767850, second: 3976366851\n",
      "first: 3976366851, second: 1183799901\n",
      "8589934602\n",
      "4294967306.0\n"
     ]
    },
    {
     "name": "stderr",
     "output_type": "stream",
     "text": [
      "<ipython-input-9-c46425a9f2fa>:14: RuntimeWarning: overflow encountered in ulong_scalars\n",
      "  x3 = (x - x1 - x2)\n",
      "<ipython-input-9-c46425a9f2fa>:19: RuntimeWarning: overflow encountered in ulong_scalars\n",
      "  return rs1.first + rs2.first + rs3.first\n",
      "<ipython-input-9-c46425a9f2fa>:19: RuntimeWarning: overflow encountered in uint_scalars\n",
      "  return rs1.first + rs2.first + rs3.first\n"
     ]
    }
   ],
   "source": [
    "x = np.uint64(10)\n",
    "x_s = RSS_share(x, mod=MOD)\n",
    "print_xs(x_s)\n",
    "print(RSS_reveal(x_s, MOD))\n",
    "\n",
    "x_s_red = reduction(x_s)\n",
    "print_xs(x_s_red)\n",
    "print(RSS_reveal(x_s_red, mod=2**LOW_BIT))\n",
    "\n",
    "x_s_red_ext = extension(x_s_red)\n",
    "print_xs(x_s_red_ext)\n",
    "print(RSS_reveal(x_s_red_ext, mod=2**HIGH_BIT))\n",
    "print(RSS_reveal(x_s_red_ext, mod=2**HIGH_BIT) % (2 ** LOW_BIT))"
   ]
  }
 ],
 "metadata": {
  "interpreter": {
   "hash": "f8e35784da7b5309346b9948007e2c8e432cfca57e220859a198433798687959"
  },
  "kernelspec": {
   "display_name": "Python 3.8.5 ('base': conda)",
   "language": "python",
   "name": "python3"
  },
  "language_info": {
   "codemirror_mode": {
    "name": "ipython",
    "version": 3
   },
   "file_extension": ".py",
   "mimetype": "text/x-python",
   "name": "python",
   "nbconvert_exporter": "python",
   "pygments_lexer": "ipython3",
   "version": "3.8.5"
  },
  "orig_nbformat": 4
 },
 "nbformat": 4,
 "nbformat_minor": 2
}
