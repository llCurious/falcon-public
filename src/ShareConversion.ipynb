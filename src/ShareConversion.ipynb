{
 "cells": [
  {
   "cell_type": "code",
   "execution_count": 1,
   "metadata": {},
   "outputs": [],
   "source": [
    "import numpy as np\n",
    "import torch"
   ]
  },
  {
   "cell_type": "code",
   "execution_count": 2,
   "metadata": {},
   "outputs": [],
   "source": [
    "# Conigs\n",
    "HIGH_BIT = 16\n",
    "LOW_BIT = 8\n",
    "BITS = 32\n",
    "PRECISION = 13\n",
    "LOW_TYPE = np.uint32\n",
    "HIGH_TYPE = np.uint64\n",
    "\n",
    "MOD = 2 ** HIGH_BIT\n",
    "P = 37"
   ]
  },
  {
   "cell_type": "code",
   "execution_count": 3,
   "metadata": {},
   "outputs": [],
   "source": [
    "class RSS:\n",
    "    def __init__(self, st, rd, mod):\n",
    "        self.first = st\n",
    "        self.second = rd\n",
    "        self.mod = mod\n",
    "\n",
    "def float2fxp(fl_x, f):\n",
    "    int_x = fl_x * (2 ** f)\n",
    "    ring_x = int_x % MOD\n",
    "\n",
    "def RSS_share(x, mod):\n",
    "    x1 = np.random.randint(MOD, dtype='uint16')\n",
    "    x2 = np.random.randint(MOD, dtype='uint16')\n",
    "    x3 = (x - x1 - x2) \n",
    "    return RSS(x1, x2, mod), RSS(x2, x3, mod), RSS(x3, x1, mod)\n",
    "\n",
    "def RSS_reveal(x_s, mod):   \n",
    "    rs1, rs2, rs3 = x_s\n",
    "    return (rs1.first + rs2.first + rs3.first) % mod\n",
    "\n",
    "def reduction(x_s):\n",
    "    rs1, rs2, rs3 = x_s\n",
    "    rs1_low = RSS(rs1.first.astype(LOW_TYPE), rs1.second.astype(LOW_TYPE), 2**LOW_BIT)\n",
    "    rs2_low = RSS(rs2.first.astype(LOW_TYPE), rs2.second.astype(LOW_TYPE), 2**LOW_BIT)\n",
    "    rs3_low = RSS(rs3.first.astype(LOW_TYPE), rs3.second.astype(LOW_TYPE), 2**LOW_BIT)\n",
    "    return rs1_low, rs2_low, rs3_low\n",
    "\n",
    "def extension(x_s):\n",
    "    rs1, rs2, rs3 = x_s\n",
    "    assert rs1.first.dtype == LOW_TYPE\n",
    "    rs1_low = RSS(rs1.first.astype(HIGH_TYPE), rs1.second.astype(HIGH_TYPE), 2**HIGH_BIT)\n",
    "    rs2_low = RSS(rs2.first.astype(HIGH_TYPE), rs2.second.astype(HIGH_TYPE), 2**HIGH_BIT)\n",
    "    rs3_low = RSS(rs3.first.astype(HIGH_TYPE), rs3.second.astype(HIGH_TYPE), 2**HIGH_BIT)\n",
    "    return rs1_low, rs2_low, rs3_low\n",
    "    \n",
    "def local_truncation(x_s, m):\n",
    "    rs1, rs2, rs3 = x_s\n",
    "    x0, x1, x2 = rs1.first, rs1.second, rs2.second\n",
    "\n",
    "    def trunc(x0, x1, x2):\n",
    "        return np.floor(x0 / 2**m), np.floor(x1 / 2**m), np.floor(x2 / 2**m)\n",
    "    \n",
    "    def trunc_red(x0, x1, x2):\n",
    "        return np.floor(x0 / 2**m) %  2**LOW_BIT, np.floor(x1 / 2**m) %  2**LOW_BIT, np.floor(x2 / 2**m) %  2**LOW_BIT\n",
    "    x0, x1, x2 = trunc_red(x0, x1, x2)\n",
    "    rs1_tr = RSS(x0, x1, 2**HIGH_BIT)\n",
    "    rs2_tr = RSS(x1, x2, 2**HIGH_BIT)\n",
    "    rs3_tr = RSS(x2, x0, 2**HIGH_BIT)\n",
    "    return rs1_tr, rs2_tr, rs3_tr\n",
    "\n",
    "\n",
    "################   HELPER FUNCTIONS    ################\n",
    "def print_rs(x_rs):\n",
    "    print(f'first: {x_rs.first}, second: {x_rs.second}')\n",
    "\n",
    "def print_xs(x_s):\n",
    "    rs1, rs2, rs3 = x_s\n",
    "    print_rs(rs1)\n",
    "    print_rs(rs2)\n",
    "    print_rs(rs3)\n",
    "\n"
   ]
  },
  {
   "cell_type": "code",
   "execution_count": 4,
   "metadata": {},
   "outputs": [
    {
     "name": "stdout",
     "output_type": "stream",
     "text": [
      "first: 38861, second: 7877\n",
      "first: 7877, second: 18788\n",
      "first: 18788, second: 38861\n",
      "65526\n",
      "first: 230.0, second: 98.0\n",
      "first: 98.0, second: 178.0\n",
      "first: 178.0, second: 230.0\n",
      "250.0\n",
      "first: 38861, second: 7877\n",
      "first: 7877, second: 18788\n",
      "first: 18788, second: 38861\n",
      "246\n",
      "first: 38861, second: 7877\n",
      "first: 7877, second: 18788\n",
      "first: 18788, second: 38861\n",
      "65526.0\n",
      "246.0\n"
     ]
    }
   ],
   "source": [
    "x = np.uint16(10)\n",
    "x_s = RSS_share(x, mod=MOD)\n",
    "print_xs(x_s)\n",
    "print(RSS_reveal(x_s, MOD))\n",
    "\n",
    "#### TEST Truncation ####\n",
    "x_s_tr = local_truncation(x_s, 1)\n",
    "print_xs(x_s_tr)\n",
    "print(RSS_reveal(x_s_tr, 2**LOW_BIT))\n",
    "\n",
    "\n",
    "#### Share Reduction ####\n",
    "x_s_red = reduction(x_s)\n",
    "print_xs(x_s_red)\n",
    "print(RSS_reveal(x_s_red, mod=2**LOW_BIT))\n",
    "\n",
    "x_s_red_ext = extension(x_s_red)\n",
    "print_xs(x_s_red_ext)\n",
    "print(RSS_reveal(x_s_red_ext, mod=2**HIGH_BIT))\n",
    "print(RSS_reveal(x_s_red_ext, mod=2**HIGH_BIT) % (2 ** LOW_BIT))"
   ]
  },
  {
   "cell_type": "code",
   "execution_count": 5,
   "metadata": {},
   "outputs": [
    {
     "data": {
      "text/plain": [
       "47590"
      ]
     },
     "execution_count": 5,
     "metadata": {},
     "output_type": "execute_result"
    }
   ],
   "source": [
    "(x - 9365 - 8571) % 2**16"
   ]
  }
 ],
 "metadata": {
  "interpreter": {
   "hash": "f8e35784da7b5309346b9948007e2c8e432cfca57e220859a198433798687959"
  },
  "kernelspec": {
   "display_name": "Python 3.8.5 ('base': conda)",
   "language": "python",
   "name": "python3"
  },
  "language_info": {
   "codemirror_mode": {
    "name": "ipython",
    "version": 3
   },
   "file_extension": ".py",
   "mimetype": "text/x-python",
   "name": "python",
   "nbconvert_exporter": "python",
   "pygments_lexer": "ipython3",
   "version": "3.8.5"
  },
  "orig_nbformat": 4
 },
 "nbformat": 4,
 "nbformat_minor": 2
}
