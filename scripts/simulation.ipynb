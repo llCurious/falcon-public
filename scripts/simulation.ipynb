{
 "cells": [
  {
   "cell_type": "code",
   "execution_count": 60,
   "metadata": {},
   "outputs": [],
   "source": [
    "import torch\n",
    "from torch.autograd.function import InplaceFunction, Function\n",
    "import torch.nn as nn\n",
    "from torch.nn import Linear, Conv2d\n",
    "import torch.nn.functional as F\n",
    "import torch.optim as optim\n",
    "\n",
    "from torch.autograd import Variable\n",
    "\n",
    "import numpy as np\n",
    "import matplotlib.pyplot as plt"
   ]
  },
  {
   "cell_type": "code",
   "execution_count": 61,
   "metadata": {},
   "outputs": [
    {
     "data": {
      "text/plain": [
       "<torch._C.Generator at 0x7f5f240d3850>"
      ]
     },
     "execution_count": 61,
     "metadata": {},
     "output_type": "execute_result"
    }
   ],
   "source": [
    "# Training configs\n",
    "batch_size = 64\n",
    "bitw_forward = 32\n",
    "bitf_forward = 12\n",
    "\n",
    "bitw_backward = 64\n",
    "bitf_backward = 20\n",
    "\n",
    "re_scale = False\n",
    "\n",
    "use_LN = False\n",
    "\n",
    "quant = False\n",
    "w_linear = True\n",
    "w_conv = True\n",
    "\n",
    "# SecureML, MiniONN, LeNet, AlexNet, VGG16\n",
    "model_name = \"AlexNet\"\n",
    "\n",
    "shifting_scale = 1.\n",
    "\n",
    "# ds = 'CIFAR-10'\n",
    "ds = 'CIFAR-10' if model_name in ['AlexNet', 'VGG16'] else 'MNIST'\n",
    "\n",
    "verbose = True\n",
    "\n",
    "\"\"\"\n",
    "make sure all the random initiation of parameters are the same in different runs\n",
    "\"\"\"\n",
    "torch.manual_seed(0)\n",
    "# print(torch.rand(2,3))"
   ]
  },
  {
   "cell_type": "markdown",
   "metadata": {},
   "source": [
    "## Customized Quantized Function"
   ]
  },
  {
   "cell_type": "code",
   "execution_count": 62,
   "metadata": {},
   "outputs": [],
   "source": [
    "def overflow_validate(val, bitw, location):\n",
    "    if val.abs().max() >= float(2**(bitw-1)):\n",
    "        raise Exception(\"Overflow {4}! Val: {0}, Bit-width: {1}, val: [-{2}, {3}]\".format(val.abs().max(), bitw, 1 << (bitw-1), (1 << (bitw-1)) - 1, location))\n",
    "\n",
    "class FxInput(InplaceFunction):\n",
    "    \"\"\"\n",
    "    Quantize w.r.t. qmax in forward pass; use STE in backward pass\n",
    "    \"\"\"\n",
    "    @staticmethod\n",
    "    def forward(ctx, input, bitw_forward, bitw_backward, bitf_forward, bitf_backward, inplace=False, trunc=False):\n",
    "        ctx.inplace = inplace\n",
    "        if ctx.inplace:\n",
    "            ctx.mark_dirty(input)\n",
    "            output = input\n",
    "\n",
    "        else:\n",
    "            output = input.clone()\n",
    "\n",
    "        # def overflow_validate(val, bitw):\n",
    "        #     if val.abs().max() >= float(2**(bitw-1)):\n",
    "        #         raise Exception(\"Overflow FxInput forward! Val: {0}, Bit-width: {1}, val: {2}\".format(val.max(), bitw, 1 << bitw))\n",
    "\n",
    "        if trunc:   # 2f-bit precision, require truncation by 2^f\n",
    "            output = (output * (1 << bitf_backward)).floor()\n",
    "            overflow_validate(output, bitw_backward, \"FxInput forward\")\n",
    "            output = (output / (1 << (bitf_backward - bitf_forward))).floor()     # FX-representation\n",
    "            overflow_validate(output, bitw_forward, \"FxInput forward\")\n",
    "            output = output / (1 << bitf_forward)                         # translate to FP\n",
    "            # if output.max() >= (1 << (bitw - bitf_after)):                                 # overflow judgement\n",
    "            #     print(\"overflow\")\n",
    "        else:       # 0-bit precision, require multiply by 2^f, currently not used\n",
    "            output = (output * (1 << bitf_forward)).floor()              # FX-representation\n",
    "            overflow_validate(output, bitw_forward, 'FxInput forward')\n",
    "            output = output / (1 << bitf_backward)                         # FP\n",
    "            # if output.max() >= (1 << (bitw - bitf_before)):                                 # overflow judgement\n",
    "            #     print(\"overflow\")\n",
    "        return output\n",
    "    \n",
    "    \"\"\"\n",
    "    Follow the STE method. Such that the gradient of Quant(x) is 1\n",
    "    \"\"\"\n",
    "    @staticmethod\n",
    "    def backward(ctx, grad_output):\n",
    "        grad_input = grad_output\n",
    "        return grad_input, None, None, None, None, None, None\n",
    "\n",
    "class FxLinear(Function):\n",
    "    \"\"\"\n",
    "    FX multiplication for linear layers. Difference is the backward gradients shall be truncated by 2^f as well\n",
    "    input: (32, 10)\n",
    "    weight: (64, 16)\n",
    "    bias: (64, 16)\n",
    "    \"\"\"\n",
    "    @staticmethod\n",
    "    def forward(ctx, input, weight, bias, bitw_forward, bitf_forward, bitw_backward, bitf_backward):\n",
    "        with torch.enable_grad():\n",
    "            detached_input = input.detach()\n",
    "            detached_input.requires_grad_(True)\n",
    "\n",
    "            detached_weight = weight.detach()\n",
    "            detached_weight.requires_grad_(True)\n",
    "\n",
    "            detached_bias = bias.detach()\n",
    "            detached_bias.requires_grad_(True)\n",
    "            \"\"\"\n",
    "            7.6875 --> 123 (4-bit f) --> 61 (3-bit f) --> 7.625\n",
    "            \"\"\"\n",
    "\n",
    "            qweight = FxInput.apply(detached_weight, bitw_forward, bitw_backward, bitf_forward, bitf_backward, False, True) # FX32 weight, should be truncated by (16 - 10) bits\n",
    "            qbias = FxInput.apply(detached_bias, bitw_forward, bitw_backward, bitf_forward, bitf_backward, False, True) # FX32 weight, should be truncated by (16 - 10) bits\n",
    "\n",
    "\n",
    "            \"\"\"\n",
    "            Print histogram of weights before and after quantization\n",
    "            \"\"\"\n",
    "            if not verbose:\n",
    "                n, bins, patches = plt.hist(detached_weight.data, 50)\n",
    "                plt.show()\n",
    "\n",
    "                n, bins, patches = plt.hist(qweight.data, 50)\n",
    "                plt.show()\n",
    "            \n",
    "\n",
    "            _output = F.linear(detached_input, qweight, qbias)\n",
    "\n",
    "        ctx.saved_input = detached_input\n",
    "        ctx.saved_param = detached_weight, detached_bias\n",
    "        ctx.bits = bitw_forward, bitf_forward, bitw_backward, bitf_backward\n",
    "        ctx.save_for_backward(_output)\n",
    "\n",
    "        # trunc after multiplication\n",
    "        output = (_output.detach() *(1 << (2*bitf_forward))).floor()            # FX\n",
    "\n",
    "        overflow_validate(output, bitw_forward, 'Linear Forward')\n",
    "        # if output.abs().max() >= float(2**(bitw_forward-1)):\n",
    "        #     raise Exception(\"Overflow Linear Forward! Val: {0}, Bit-width: {1}\".format(output.max(), bitw_forward))\n",
    "\n",
    "        output = (output / (1 << bitf_forward)).floor()                         # FX Trunc\n",
    "        output = output / (1 << bitf_forward)                                   # FP\n",
    "        return output\n",
    "\n",
    "    @staticmethod\n",
    "    def backward(ctx, grad_output):\n",
    "        _output, = ctx.saved_tensors\n",
    "        \"\"\"\n",
    "        grad_output: (64, 16), nothing should be done\n",
    "        grad_param (input, weight, bias): (64, 16) * (32, 10), should be extended. Here, only left-shift by (bitf_backward - bitf_forward) is required.\n",
    "        weights: forward + backward, Here, since the backward-precision weight is kept, we can directly perform right-shift.\n",
    "        \"\"\"\n",
    "        _weight, _bias = ctx.saved_param\n",
    "        _input = ctx.saved_input\n",
    "        # print(\"grad_output: \", grad_output)\n",
    "        # grad_output.data = torch.tensor(7.6875)\n",
    "\n",
    "        # TODO: this actually should be modified, since 64-bit * 32-bit cannot be directly multiplied. Here, i use FP thus the computation can be carried out, despite the precision\n",
    "        with torch.enable_grad():\n",
    "            _output.backward(grad_output)\n",
    "\n",
    "        \"\"\"\n",
    "        (qweight)122 * 123 (4-bit) --> 15006 --> 937 --> 58.5625\n",
    "        7.625 * 7.6875 --> 58.6171875 --> 7503 --> trunc --> 937\n",
    "        7.6875 --> 123 (4-bit f) --> 61 (3-bit f) --> 7.625\n",
    "        \"\"\"\n",
    "        grad_weight, grad_bias = _weight.grad, _bias.grad   # backward\n",
    "        grad_input = _input.grad\n",
    "        # print(\"ss: \", grad_input)\n",
    "\n",
    "        bitw_forward, bitf_forward, bitw_backward, bitf_backward = ctx.bits\n",
    "\n",
    "        # def overflow_validate(val, bitw):\n",
    "        #     if val.abs().max() >= float(2**(bitw-1)):\n",
    "        #         raise Exception(\"Overflow Linear Backward! Val: {0}, Bit-width: {1}\".format(val.max(), bitw))\n",
    "\n",
    "        grad_weight = (grad_weight * (1 << (bitf_forward + bitf_backward))).floor()     #FX\n",
    "        overflow_validate(grad_weight, bitw_backward, 'Linear Backward Weight')\n",
    "        grad_weight = (grad_weight / (1 << bitf_forward)).floor() / (1 << bitf_backward)\n",
    "\n",
    "        grad_bias = (grad_bias * (1 << (bitf_forward + bitf_backward))).floor()         #FX\n",
    "        overflow_validate(grad_bias, bitw_backward, 'Linear Backward Bias')\n",
    "        grad_bias = (grad_bias / (1 << bitf_forward)).floor() / (1 << bitf_backward)\n",
    "\n",
    "        grad_input = (grad_input * (1 << (bitf_forward + bitf_backward))).floor()       #FX\n",
    "        overflow_validate(grad_input, bitw_backward, 'Linear Backward Activation')\n",
    "        grad_input = (grad_input / (1 << bitf_forward)).floor() / (1 << bitf_backward)\n",
    "\n",
    "        return grad_input, grad_weight, grad_bias, None, None, None, None\n",
    "\n",
    "class FxConv2D(Function):\n",
    "    \"\"\"\n",
    "    FX Convolution for linear layers. Difference is the backward gradients shall be truncated by 2^f as well\n",
    "    input: (32, 10)\n",
    "    weight: (64, 16)\n",
    "    bias: (64, 16)\n",
    "    \"\"\"\n",
    "    @staticmethod\n",
    "    def forward(ctx, input, weight, bias, stride, padding, dilation, groups, bitw_forward, bitf_forward, bitw_backward, bitf_backward):\n",
    "        with torch.enable_grad():\n",
    "            detached_input = input.detach()\n",
    "            detached_input.requires_grad_(True)\n",
    "\n",
    "            detached_weight = weight.detach()\n",
    "            detached_weight.requires_grad_(True)\n",
    "\n",
    "            detached_bias = bias.detach()\n",
    "            detached_bias.requires_grad_(True)\n",
    "            \"\"\"\n",
    "            7.6875 --> 123 (4-bit f) --> 61 (3-bit f) --> 7.625\n",
    "            \"\"\"\n",
    "            qweight = FxInput.apply(detached_weight, bitw_forward, bitw_backward, bitf_forward, bitf_backward, False, True) # FX32 weight, should be truncated by (16 - 10) bits\n",
    "            qbias = FxInput.apply(detached_bias, bitw_forward, bitw_backward, bitf_forward, bitf_backward, False, True) # FX32 weight, should be truncated by (16 - 10) bits\n",
    "            \n",
    "            _output = F.conv2d(detached_input, qweight, qbias, stride, padding, dilation, groups)\n",
    "\n",
    "        ctx.saved_input = detached_input\n",
    "        ctx.saved_param = detached_weight, detached_bias\n",
    "        ctx.bits = bitw_forward, bitf_forward, bitw_backward, bitf_backward\n",
    "\n",
    "        ctx.save_for_backward(_output)\n",
    "\n",
    "        # trunc after multiplication\n",
    "        output = (_output.detach() * (1 << (2*bitf_forward))).floor()           # FX\n",
    "\n",
    "        overflow_validate(output, bitw_forward, 'Conv2D Forward')\n",
    "        # if output.abs().max() >= float(2**(bitw_forward-1)):\n",
    "        #     raise Exception(\"Overflow Conv2D Forward! Val: {0}, Bit-width: {1}, val: {2}\".format(output.max(), bitw_forward, 1 << bitw_forward))\n",
    "            \n",
    "        output = (output / (1 << bitf_forward)).floor()                         # FX truncate by bitf_forward bits\n",
    "        output = output / (1 << bitf_forward)                                   # FP\n",
    "        return output\n",
    "\n",
    "    @staticmethod\n",
    "    def backward(ctx, grad_output):\n",
    "        _output, = ctx.saved_tensors\n",
    "        \"\"\"\n",
    "        grad_output: (64, 16), nothing should be done\n",
    "        grad_param (input, weight, bias): (64, 16) * (32, 10), should be extended. Here, only left-shift by (bitf_backward - bitf_forward) is required.\n",
    "        weights: forward + backward, Here, since the backward-precision weight is kept, we can directly perform right-shift.\n",
    "        \"\"\"\n",
    "        _weight, _bias = ctx.saved_param\n",
    "        _input = ctx.saved_input\n",
    "        # print(\"grad_output: \", grad_output)\n",
    "        # grad_output.data = torch.tensor(7.6875)\n",
    "\n",
    "        # TODO: this actually should be modified, since 64-bit * 32-bit cannot be directly multiplied. Here, i use FP thus the computation can be carried out, despite the precision\n",
    "        with torch.enable_grad():\n",
    "            _output.backward(grad_output)\n",
    "\n",
    "        \"\"\"\n",
    "        (qweight)122 * 123 (4-bit) --> 15006 --> 937 --> 58.5625\n",
    "        7.625 * 7.6875 --> 58.6171875 --> 7503 --> trunc --> 937\n",
    "        7.6875 --> 123 (4-bit f) --> 61 (3-bit f) --> 7.625\n",
    "        \"\"\"\n",
    "        grad_weight, grad_bias = _weight.grad, _bias.grad   # backward\n",
    "        grad_input = _input.grad\n",
    "\n",
    "        bitw_forward, bitf_forward, bitw_backward, bitf_backward = ctx.bits\n",
    "\n",
    "        # def overflow_validate(val, bitw):\n",
    "        #     if val.abs().max() >= float(2**(bitw-1)):\n",
    "        #         raise Exception(\"Overflow Conv2D Backward! Val: {0}, Bit-width: {1}, ring: {2}\".format(val.max(), bitw, 1 << bitw))\n",
    "\n",
    "        grad_weight = (grad_weight * (1 << (bitf_forward + bitf_backward))).floor()     #FX\n",
    "        overflow_validate(grad_weight, bitw_backward, 'Conv2D Backward Weight')\n",
    "        grad_weight = (grad_weight / (1 << bitf_forward)).floor() / (1 << bitf_backward)\n",
    "\n",
    "        grad_bias = (grad_bias * (1 << (bitf_forward + bitf_backward))).floor()         #FX\n",
    "        overflow_validate(grad_bias, bitw_backward, 'Conv2D Backward Bias')\n",
    "        grad_bias = (grad_bias / (1 << bitf_forward)).floor() / (1 << bitf_backward)\n",
    "\n",
    "        grad_input = (grad_input * (1 << (bitf_forward + bitf_backward))).floor()       #FX\n",
    "        overflow_validate(grad_input, bitw_backward, 'Conv2D Backward Activation')\n",
    "        grad_input = (grad_input / (1 << bitf_forward)).floor() / (1 << bitf_backward)\n",
    "\n",
    "        return grad_input, grad_weight, grad_bias, None, None, None, None, None, None, None, None\n",
    "\n",
    "class FxLayerNorm(Function):\n",
    "    \"\"\"\n",
    "    FX LayerNorm for normalization activation outputs.\n",
    "    \"\"\"\n",
    "    @staticmethod\n",
    "    def fx_mean(input, bitw_forward, bitw_backward, bitf_forward, bitf_backward):\n",
    "        tar_mean = input.mean(-1, keepdim = True)\n",
    "\n",
    "        # fx mean imp\n",
    "        sum = input.sum(-1, keepdim = True)\n",
    "        divisor = input.shape[-1]\n",
    "        recp = torch.tensor(((1. / divisor) * (1 << bitf_forward))).floor() / (1 << bitf_forward)      # TODO: here should use godsmich to approximate the recp, which may incur additional precision loss\n",
    "        mean = sum * recp\n",
    "\n",
    "        # Fx --> Fp\n",
    "        mean_fx = (mean * (1 << (2 * bitf_forward))).floor()\n",
    "        mean = (mean_fx / (1 << bitf_forward)).floor() / (1 << bitf_forward)\n",
    "\n",
    "        # definitely not overflow, so here pass the overflow validate\n",
    "\n",
    "        # print(\"tar mean: {0}, output_mean: {1}, diff: {2}\".format(tar_mean, mean, mean - tar_mean))\n",
    "        return mean\n",
    "\n",
    "    @staticmethod\n",
    "    def fx_var(input, bitw_forward, bitw_backward, bitf_forward, bitf_backward):\n",
    "        tar_var = input.var(-1, keepdim = True)\n",
    "\n",
    "        # fx var imp\n",
    "        mean = FxLayerNorm.fx_mean(input, bitw_forward, bitw_backward, bitf_forward, bitf_backward)\n",
    "        diff = (input - mean)\n",
    "        diff = diff ** 2\n",
    "        diff_sum = diff.sum(-1, keepdim = True)\n",
    "        diff_sum = (diff_sum * (1 << (2*bitf_forward))).floor()\n",
    "        overflow_validate(diff_sum, bitw_forward, \"FX Variance\")\n",
    "\n",
    "        diff_sum = (diff_sum / (1 << bitf_forward)).floor() / (1 << bitf_forward)\n",
    "\n",
    "\n",
    "        divisor = input.shape[-1]\n",
    "        recp = torch.tensor(((1. / divisor) * (1 << bitf_forward))).floor() / (1 << bitf_forward)       # TODO: here should use godsmich to approximate the recp, which may incur additional precision loss\n",
    "        var = diff_sum * recp\n",
    "\n",
    "        # Fx --> Fp\n",
    "        var_fx = (var * (1 << (2 * bitf_forward))).floor()\n",
    "        var = (var_fx / (1 << bitf_forward)).floor() / (1 << bitf_forward)\n",
    "\n",
    "        # print(\"tar var: {0}, output var: {1}, diff: {2}\".format(tar_var, var, var - tar_var))\n",
    "        return mean, var\n",
    "\n",
    "    @staticmethod\n",
    "    def fx_layer_norm(input, bitw_forward, bitw_backward, bitf_forward, bitf_backward):\n",
    "        mean, var = FxLayerNorm.fx_var(input, bitw_forward, bitw_backward, bitf_forward, bitf_backward)\n",
    "\n",
    "        dividend = input - mean\n",
    "\n",
    "        divisor = torch.sqrt(var)\n",
    "        recp = torch.tensor(((1. / divisor) * (1 << bitf_forward))).floor() / (1 << bitf_forward)       # TODO: here should use godsmich to approximate the recp, which may incur additional precision loss\n",
    "        \n",
    "        norm_output = dividend * recp\n",
    "        return norm_output\n",
    "\n",
    "\n",
    "    @staticmethod\n",
    "    def forward(ctx, input, bitw_forward, bitf_forward, bitw_backward, bitf_backward):\n",
    "        with torch.enable_grad():\n",
    "            detached_input = input.detach()\n",
    "            detached_input.requires_grad_(True)\n",
    "            print(detached_input)\n",
    "            fx_output = FxLayerNorm.fx_layer_norm(detached_input, bitw_forward, bitw_backward, bitf_forward, bitf_backward)\n",
    "            \n",
    "            _output = F.layer_norm(detached_input, (detached_input.shape[-1],))\n",
    "\n",
    "            print(\"tar norm: {0}, output norm: {1}, diff: {2}\".format(_output, fx_output, fx_output - _output))\n",
    "        \n",
    "        ctx.saved_input = detached_input\n",
    "        ctx.bits = bitw_forward, bitf_forward, bitw_backward, bitf_backward\n",
    "        ctx.save_for_backward(_output)\n",
    "\n",
    "        # trunc after multiplication\n",
    "        output = (_output.detach() *(1 << (2*bitf_forward))).floor()            # FX\n",
    "        print(output)\n",
    "\n",
    "        overflow_validate(output, bitw_forward, 'LayerNorm Forward')\n",
    "        # if output.abs().max() >= 2 **(bitw_forward-1):\n",
    "        #     raise Exception(\"Overflow! Val: {0}, Bit-width: {1}\".format(output.max(), bitw_forward))\n",
    "\n",
    "        output = (output / (1 << bitf_forward)).floor()                         # FX Trunc\n",
    "        output = output / (1 << bitf_forward)                                   # FP\n",
    "        return output\n",
    "\n",
    "    \n",
    "    @staticmethod\n",
    "    def backward(ctx, grad_output):\n",
    "        _output, = ctx.saved_tensors\n",
    "        \"\"\"\n",
    "        grad_output: (64, 16), nothing should be done\n",
    "        grad_param (input, weight, bias): (64, 16) * (32, 10), should be extended. Here, only left-shift by (bitf_backward - bitf_forward) is required.\n",
    "        weights: forward + backward, Here, since the backward-precision weight is kept, we can directly perform right-shift.\n",
    "        \"\"\"\n",
    "        _input = ctx.saved_input\n",
    "        # print(\"grad_output: \", grad_output)\n",
    "        # grad_output.data = torch.tensor(7.6875)\n",
    "\n",
    "        # TODO: this actually should be modified, since 64-bit * 32-bit cannot be directly multiplied. Here, i use FP thus the computation can be carried out, despite the precision\n",
    "        with torch.enable_grad():\n",
    "            _output.backward(grad_output)\n",
    "\n",
    "        \"\"\"\n",
    "        (qweight)122 * 123 (4-bit) --> 15006 --> 937 --> 58.5625\n",
    "        7.625 * 7.6875 --> 58.6171875 --> 7503 --> trunc --> 937\n",
    "        7.6875 --> 123 (4-bit f) --> 61 (3-bit f) --> 7.625\n",
    "        \"\"\"\n",
    "        grad_input = _input.grad\n",
    "\n",
    "        bitw_forward, bitf_forward, bitw_backward, bitf_backward = ctx.bits\n",
    "\n",
    "\n",
    "        grad_input = (grad_input * (1 << (bitf_forward + bitf_backward))).floor()       #FX\n",
    "        overflow_validate(grad_input, bitw_backward, 'LayerNorm Backward')\n",
    "        grad_input = (grad_input / (1 << bitf_forward)).floor() / (1 << bitf_backward)\n",
    "\n",
    "        return grad_input, None, None, None, None\n",
    "\n",
    "\n",
    "class FxSoftmax(Function):\n",
    "    \"\"\"\n",
    "    FX softmax for linear layers. Difference is the backward gradients shall be truncated by 2^f as well\n",
    "    input: (32, 10)\n",
    "    \"\"\"\n",
    "    @staticmethod\n",
    "    def forward(ctx, input, bitw_forward, bitf_forward, bitw_backward, bitf_backward):\n",
    "        with torch.enable_grad():\n",
    "            detached_input = input.detach()\n",
    "            detached_input.requires_grad_(True)\n",
    "\n",
    "            \n",
    "            # TODO: modified to softmax. I think this should be done using polynomial approximation or iterative method\n",
    "            _output = F.softmax(detached_input)\n",
    "\n",
    "        ctx.saved_input = detached_input\n",
    "        ctx.bits = bitw_forward, bitf_forward, bitw_backward, bitf_backward\n",
    "        ctx.save_for_backward(_output)\n",
    "\n",
    "        # trunc after multiplication\n",
    "        output = (_output.detach() *(1 << (2*bitf_forward))).floor()            # FX\n",
    "        overflow_validate(output, bitw_forward, 'Softmax Forward')\n",
    "        # if output.max() >= 2 **bitw_forward:\n",
    "        #     raise Exception(\"Overflow! Val: {0}, Bit-width: {1}\".format(output.max(), bitw_forward))\n",
    "\n",
    "        output = (output / (1 << bitf_forward)).floor()                         # FX Trunc\n",
    "        output = output / (1 << bitf_forward)                                   # FP\n",
    "        return output\n",
    "\n",
    "    @staticmethod\n",
    "    def backward(ctx, grad_output):\n",
    "        _output, = ctx.saved_tensors\n",
    "        \"\"\"\n",
    "        grad_output: (64, 16), nothing should be done\n",
    "        grad_param (input, weight, bias): (64, 16) * (32, 10), should be extended. Here, only left-shift by (bitf_backward - bitf_forward) is required.\n",
    "        weights: forward + backward, Here, since the backward-precision weight is kept, we can directly perform right-shift.\n",
    "        \"\"\"\n",
    "        _input = ctx.saved_input\n",
    "        # print(\"grad_output: \", grad_output)\n",
    "        # grad_output.data = torch.tensor(7.6875)\n",
    "\n",
    "        # TODO: this actually should be modified, since 64-bit * 32-bit cannot be directly multiplied. Here, i use FP thus the computation can be carried out, despite the precision\n",
    "        with torch.enable_grad():\n",
    "            _output.backward(grad_output)\n",
    "\n",
    "        \"\"\"\n",
    "        (qweight)122 * 123 (4-bit) --> 15006 --> 937 --> 58.5625\n",
    "        7.625 * 7.6875 --> 58.6171875 --> 7503 --> trunc --> 937\n",
    "        7.6875 --> 123 (4-bit f) --> 61 (3-bit f) --> 7.625\n",
    "        \"\"\"\n",
    "        grad_input = _input.grad\n",
    "        # print(\"ss: \", grad_input)\n",
    "\n",
    "        bitw_forward, bitf_forward, bitw_backward, bitf_backward = ctx.bits\n",
    "\n",
    "        # def overflow_validate(val, bitw):\n",
    "        #     print(val.dtype)\n",
    "        #     if val.abs().max() >= 2 ** (bitw-1):\n",
    "        #         raise Exception(\"Overflow Conv2D! Val: {0}, Bit-width: {1}\".format(val.max(), bitw))\n",
    "\n",
    "        grad_input = (grad_input * (1 << (bitf_forward + bitf_backward))).floor()       #FX\n",
    "        overflow_validate(grad_input, bitw_backward, 'Softmax Backward')\n",
    "        grad_input = (grad_input / (1 << bitf_forward)).floor() / (1 << bitf_backward)\n",
    "\n",
    "        return grad_input, None, None, None, None"
   ]
  },
  {
   "cell_type": "markdown",
   "metadata": {},
   "source": [
    "## Test Fx Function"
   ]
  },
  {
   "cell_type": "code",
   "execution_count": 63,
   "metadata": {},
   "outputs": [
    {
     "name": "stdout",
     "output_type": "stream",
     "text": [
      "tensor(15.2500)\n",
      "tensor(15.2500)\n",
      "tensor(7.6250, grad_fn=<FxInputBackward>)\n",
      "====================  FX Linear  ====================\n",
      "tensor(66.4225, grad_fn=<MseLossBackward0>)\n",
      "tensor(58.2500, grad_fn=<FxLinearBackward>)\n",
      "tensor(16.3000)\n",
      "tensor([124.2500])\n",
      "====================  LayerNorm  ====================\n",
      "tensor([[0.0496, 0.0768, 0.0088],\n",
      "        [0.0132, 0.0307, 0.0634]], grad_fn=<DivBackward0>)\n",
      "tensor([[0.0496, 0.0768, 0.0088],\n",
      "        [0.0132, 0.0307, 0.0634]], requires_grad=True)\n",
      "tar norm: tensor([[ 0.1610,  1.1284, -1.2895],\n",
      "        [-1.0731, -0.2396,  1.3127]], grad_fn=<NativeLayerNormBackward0>), output norm: tensor([[ 0.1622,  1.1365, -1.2987],\n",
      "        [-1.0864, -0.2426,  1.3290]], grad_fn=<MulBackward0>), diff: tensor([[ 0.0012,  0.0081, -0.0092],\n",
      "        [-0.0133, -0.0029,  0.0163]], grad_fn=<SubBackward0>)\n",
      "tensor([[ 1.7706e+11,  1.2407e+12, -1.4178e+12],\n",
      "        [-1.1799e+12, -2.6346e+11,  1.4434e+12]])\n"
     ]
    },
    {
     "name": "stderr",
     "output_type": "stream",
     "text": [
      "<ipython-input-62-09750be26726>:292: UserWarning: To copy construct from a tensor, it is recommended to use sourceTensor.clone().detach() or sourceTensor.clone().detach().requires_grad_(True), rather than torch.tensor(sourceTensor).\n",
      "  recp = torch.tensor(((1. / divisor) * (1 << bitf_forward))).floor() / (1 << bitf_forward)       # TODO: here should use godsmich to approximate the recp, which may incur additional precision loss\n"
     ]
    },
    {
     "data": {
      "text/plain": [
       "tensor([[ 0.1610,  1.1284, -1.2895],\n",
       "        [-1.0731, -0.2396,  1.3127]], grad_fn=<FxLayerNormBackward>)"
      ]
     },
     "execution_count": 63,
     "metadata": {},
     "output_type": "execute_result"
    }
   ],
   "source": [
    "x = torch.tensor(7.6875, requires_grad=True)\n",
    "\n",
    "y = FxInput.apply(x, 16, 32, 3, 4, False, True)\n",
    "# y = FxInput.apply(x, 5, 32, 3, 4, False, False)\n",
    "y.retain_grad()\n",
    "loss = y * y\n",
    "loss.backward()\n",
    "\n",
    "print(y.grad)\n",
    "print(x.grad)\n",
    "print(y)\n",
    "\n",
    "\n",
    "print(\"=\"*20, \" FX Linear \", \"=\"*20)\n",
    "x = torch.full([1], 7.625, requires_grad=True)  # 3-bit\n",
    "w = torch.full([1], 7.6875, requires_grad=True) # 4-bit to 3-bit qweight = 7.625\n",
    "b = torch.tensor(0.2, requires_grad=True)\n",
    "z = FxLinear.apply(x, w, b, 16, 3, 32, 4)       # 58.25\n",
    "z.retain_grad()\n",
    "loss = F.mse_loss(z, torch.tensor(50.1))\n",
    "loss.backward()\n",
    "\n",
    "print(loss)\n",
    "print(z)\n",
    "print(z.grad)\n",
    "print(x.grad)\n",
    "\n",
    "print(\"=\"*20, \" LayerNorm \", \"=\"*20)\n",
    "x = torch.rand([2, 3], requires_grad=True)  # 3-bit\n",
    "func = FxLayerNorm.apply\n",
    "print(x / 10)\n",
    "func(x / 10, 64, 20, 32, 7)"
   ]
  },
  {
   "cell_type": "markdown",
   "metadata": {},
   "source": [
    "## Customized Layer"
   ]
  },
  {
   "cell_type": "code",
   "execution_count": 64,
   "metadata": {},
   "outputs": [],
   "source": [
    "class QLinear(nn.Linear):\n",
    "    \"\"\"QLinear using FX.\"\"\"\n",
    "    def __init__(self, in_features, out_features, bias=True, bitw_forward=bitw_forward, bitw_backward = bitw_backward, bitf_forward=bitf_forward, bitf_backward=bitf_backward):\n",
    "        super(QLinear, self).__init__(in_features, out_features, bias)\n",
    "        self.bitw_forward = bitw_forward\n",
    "        self.bitw_backward = bitw_backward\n",
    "        \n",
    "        self.bitf_forward = bitf_forward\n",
    "        self.bitf_backward = bitf_backward\n",
    "\n",
    "        self.reset_parameters()\n",
    "        \n",
    "        \"\"\"\n",
    "        Print histogram of initialized weights using different f-bits quantization\n",
    "        \"\"\"\n",
    "        if not verbose:\n",
    "            n, bins, patches = plt.hist(self.weight.data, 20)\n",
    "            plt.show()\n",
    "\n",
    "            f_bits = [20, 12, 7, 6, 5]\n",
    "            for i in f_bits:\n",
    "                tmp_weight =  nn.Parameter(((self.weight / shifting_scale * (1 << i))).round() / (1 << i))    # FX64 copy\n",
    "                n, bins, patches = plt.hist(tmp_weight.data, 20)\n",
    "                plt.show()\n",
    "            \n",
    "        self.weight =  nn.Parameter(((self.weight / shifting_scale * (1 << bitf_backward))).round() / (1 << self.bitf_backward))    # FX64 copy\n",
    "        self.bias =  nn.Parameter(((self.bias / shifting_scale * (1 << bitf_backward))).round() / (1 << self.bitf_backward))    # FX64 copy\n",
    "        # self.quant = DoReFaQuantizeLayer(num_bits=num_bits, quant=quant, quant_scale=quant_scale)\n",
    "\n",
    "        \n",
    "    \"\"\"\n",
    "    Hack the weight initialitization\n",
    "    TODO: modify the kaiming init. Since the backend PyTorch init follows the uniform(-1/sqrt(in_features), 1/sqrt(in_features)) \n",
    "    https://github.com/pytorch/pytorch/issues/57109\n",
    "    \"\"\"\n",
    "    def reset_parameters(self) -> None:\n",
    "        return super().reset_parameters()\n",
    "    # we here assume all the input are already quantized to fixed-point numbers\n",
    "    def forward(self, input):\n",
    "        output = FxLinear.apply(input, self.weight, self.bias, self.bitw_forward, self.bitf_forward, self.bitw_backward, self.bitf_backward) # FX32 weight, should be truncated by (16 - 10) bits\n",
    "\n",
    "        # qoutput = FxSimulation.apply(output, self.bitw_forward, self.bitf_forward, self.bitw_backward, self.bitf_backward)      # truncation by 2^f\n",
    "\n",
    "        return output\n",
    "\n",
    "class QConv2d(nn.Conv2d):\n",
    "    \"\"\"QConv2d using FX.\"\"\"\n",
    "\n",
    "    def __init__(self, in_channels, out_channels, kernel_size,\n",
    "                 stride=1, padding=0, dilation=1, groups=1, bias=True, bitw_forward=bitw_forward, bitw_backward = bitw_backward, bitf_forward=bitf_forward, bitf_backward=bitf_backward):\n",
    "        super(QConv2d, self).__init__(in_channels, out_channels, kernel_size,\n",
    "                                      stride, padding, dilation, groups, bias)\n",
    "        self.bitw_forward = bitw_forward\n",
    "        self.bitw_backward = bitw_backward\n",
    "        \n",
    "        self.bitf_forward = bitf_forward\n",
    "        self.bitf_backward = bitf_backward\n",
    "\n",
    "        self.weight =  nn.Parameter(((self.weight * (1 << bitf_backward))).round() / (1 << self.bitf_backward))    # FX64 copy\n",
    "        self.bias =  nn.Parameter(((self.bias * (1 << bitf_backward))).round() / (1 << self.bitf_backward))    # FX64 copy\n",
    "        # self.quant = DoReFaQuantizeLayer(num_bits=num_bits, quant=quant, quant_scale=quant_scale)\n",
    "\n",
    "    def forward(self, input):\n",
    "        output = FxConv2D.apply(input, self.weight, self.bias, \n",
    "                            self.stride, self.padding, self.dilation, self.groups, \n",
    "                            self.bitw_forward, self.bitf_forward, self.bitw_backward, self.bitf_backward)\n",
    "        # output = F.conv2d(input, qweight, self.bias, self.stride,\n",
    "        #                     self.padding, self.dilation, self.groups)\n",
    "        return output\n",
    "\n",
    "class QLayerNorm(nn.LayerNorm):\n",
    "    \"\"\"QLayerNorm using FX.\"\"\"\n",
    "\n",
    "    def __init__(self, input, bitw_forward=bitw_forward, bitw_backward = bitw_backward, bitf_forward=bitf_forward, bitf_backward=bitf_backward):\n",
    "        super(QLayerNorm, self).__init__(input)\n",
    "        self.bitw_forward = bitw_forward\n",
    "        self.bitw_backward = bitw_backward\n",
    "        \n",
    "        self.bitf_forward = bitf_forward\n",
    "        self.bitf_backward = bitf_backward\n",
    "        # self.num_bits = num_bits\n",
    "        # self.quant = DoReFaQuantizeLayer(num_bits=num_bits, quant=quant, quant_scale=quant_scale)\n",
    "\n",
    "    def forward(self, input):\n",
    "        output = FxSoftmax.apply(input, self.bitw_forward, self.bitf_forward, self.bitw_backward, self.bitf_backward)\n",
    "        return output\n",
    "\n",
    "class QSoftmax(nn.Softmax):\n",
    "    \"\"\"QSoftmax using FX.\"\"\"\n",
    "\n",
    "    def __init__(self, input, bitw_forward=bitw_forward, bitw_backward = bitw_backward, bitf_forward=bitf_forward, bitf_backward=bitf_backward):\n",
    "        super(QSoftmax, self).__init__(input)\n",
    "        self.bitw_forward = bitw_forward\n",
    "        self.bitw_backward = bitw_backward\n",
    "        \n",
    "        self.bitf_forward = bitf_forward\n",
    "        self.bitf_backward = bitf_backward\n",
    "        # self.num_bits = num_bits\n",
    "        # self.quant = DoReFaQuantizeLayer(num_bits=num_bits, quant=quant, quant_scale=quant_scale)\n",
    "\n",
    "    def forward(self, input):\n",
    "        output = FxSoftmax.apply(input, self.bitw_forward, self.bitf_forward, self.bitw_backward, self.bitf_backward)\n",
    "        return output\n",
    "\n",
    "\"\"\"\n",
    "This two functions seems does not need to separately implement FX-version, since the precision does not change during computation\n",
    "\"\"\"\n",
    "class QReLU(nn.ReLU):\n",
    "    \"\"\"QReLU using FX.\"\"\"\n",
    "\n",
    "    def __init__(self, input, num_bits=8, quant=False, quant_scale=False):\n",
    "        super(QReLU, self).__init__(input)\n",
    "        # self.num_bits = num_bits\n",
    "        # self.quant = DoReFaQuantizeLayer(num_bits=num_bits, quant=quant, quant_scale=quant_scale)\n",
    "\n",
    "\n",
    "    def forward(self, input):\n",
    "        output = F.relu(input)\n",
    "\n",
    "        return output\n",
    "\n",
    "class QMaxPooling(nn.MaxPool2d):\n",
    "    \"\"\"\n",
    "    FX for MaxPooling.\n",
    "    \"\"\"\n",
    "    def __init__(self, kernel_size, stride, padding = 0, dilation = 1, return_indices = False, ceil_mode = False, num_bits=8, quant=False, quant_scale=False) -> None:\n",
    "        super().__init__(kernel_size, stride=stride, padding=padding, dilation=dilation, return_indices=return_indices, ceil_mode=ceil_mode)\n",
    "\n",
    "        # self.quant = DoReFaQuantizeLayer(num_bits=num_bits, quant=quant, quant_scale=quant_scale)\n",
    "\n",
    "    def forward(self, input):\n",
    "        # assert(input.dtype == torch.int32)\n",
    "        output = F.max_pool2d(input, self.kernel_size, self.stride, self.padding, self.dilation, self.ceil_mode)\n",
    "        return output"
   ]
  },
  {
   "cell_type": "markdown",
   "metadata": {},
   "source": [
    "## Model Config"
   ]
  },
  {
   "cell_type": "code",
   "execution_count": 65,
   "metadata": {},
   "outputs": [],
   "source": [
    "\n",
    "class SecureML(nn.Module):\n",
    "    def __init__(self) -> None:\n",
    "        super().__init__()\n",
    "\n",
    "        self.fc1 = nn.Sequential(\n",
    "            nn.Flatten(),\n",
    "            QLinear(28*28, 128) if quant else Linear(28*28, 128),\n",
    "            # nn.LayerNorm(128, elementwise_affine=False),\n",
    "            nn.ReLU(),\n",
    "        )\n",
    "        self.fc2 = nn.Sequential(\n",
    "            QLinear(128, 128) if quant else Linear(128, 128),\n",
    "            # nn.LayerNorm(128, elementwise_affine=False),\n",
    "            nn.ReLU(),\n",
    "        )\n",
    "\n",
    "        self.fc3 = nn.Sequential(\n",
    "            QLinear(128, 10) if quant else Linear(128, 10),\n",
    "            # nn.Softmax()\n",
    "        )\n",
    "    \n",
    "    def forward(self, x):\n",
    "        out = self.fc1(x)\n",
    "        out = self.fc2(out)\n",
    "        out = self.fc3(out)\n",
    "        return out\n",
    "\n",
    "class MiniONN(nn.Module):\n",
    "    def __init__(self) -> None:\n",
    "        super().__init__()\n",
    "\n",
    "        self.cnn1 = nn.Sequential(\n",
    "            nn.Conv2d(1, 16, 5, 1, 'valid'),\n",
    "            nn.ReLU(),\n",
    "            nn.MaxPool2d(2)\n",
    "        )\n",
    "\n",
    "        self.cnn2 = nn.Sequential(\n",
    "            nn.Conv2d(16, 16, 5, 1, 'valid'),\n",
    "            nn.ReLU(),\n",
    "            nn.MaxPool2d(2)\n",
    "        )\n",
    "\n",
    "        self.fc1 = nn.Sequential(\n",
    "            nn.Flatten(),\n",
    "            QLinear(4*4*16, 100) if quant and w_linear else Linear(4*4*16, 100),\n",
    "            # nn.LayerNorm(100, elementwise_affine=False),\n",
    "            # nn.BatchNorm1d(100, affine=False),\n",
    "            nn.ReLU(),\n",
    "        )\n",
    "\n",
    "        self.fc2 = nn.Sequential(\n",
    "            QLinear(100, 10) if quant and w_linear else Linear(100, 10),\n",
    "            # nn.ReLU(),\n",
    "            # nn.Softmax()\n",
    "        )\n",
    "    \n",
    "    def forward(self, x):\n",
    "        out = self.cnn1(x)\n",
    "        out = self.cnn2(out)\n",
    "        out = self.fc1(out)\n",
    "        out = self.fc2(out)\n",
    "\n",
    "        return out\n",
    "\n",
    "\n",
    "class LeNet(nn.Module):\n",
    "    def __init__(self) -> None:\n",
    "        super().__init__()\n",
    "\n",
    "        self.layer1 = nn.Sequential(\n",
    "            nn.Conv2d(1, 20, 5, 1, 'valid'),\n",
    "            nn.ReLU(),\n",
    "            nn.MaxPool2d(2)\n",
    "        )\n",
    "\n",
    "        self.layer2 = nn.Sequential(\n",
    "            nn.Conv2d(20, 50, 5, 1, 'valid'),\n",
    "            nn.ReLU(),\n",
    "            nn.MaxPool2d(2)\n",
    "        )\n",
    "\n",
    "        self.fc = nn.Sequential(\n",
    "            nn.Flatten(),\n",
    "            QLinear(4*4*50, 500) if quant and w_linear else Linear(4*4*50, 500),\n",
    "            nn.ReLU(),\n",
    "            QLinear(500, 10) if quant and w_linear else Linear(500, 10),\n",
    "            # nn.ReLU(),\n",
    "            # nn.Softmax()\n",
    "        ) \n",
    "    \n",
    "    def forward(self, x):\n",
    "        out = self.layer1(x)\n",
    "        out = self.layer2(out)\n",
    "        out = self.fc(out)\n",
    "\n",
    "        return out\n",
    "\n",
    "\"\"\"\n",
    "AlexNet for CIFAR-10\n",
    "https://github.com/soapisnotfat/pytorch-cifar10/blob/master/models/AlexNet.py\n",
    "\"\"\"\n",
    "class AlexNet(nn.Module):\n",
    "    def __init__(self, num_classes=10) -> None:\n",
    "        super().__init__()\n",
    "            \n",
    "        self.cnn1 = nn.Sequential(\n",
    "            nn.Conv2d(3, 96, kernel_size=11, stride=4, padding=9),\n",
    "            nn.ReLU(),\n",
    "            nn.MaxPool2d(kernel_size=3, stride=2),\n",
    "            nn.BatchNorm2d(num_features=96),\n",
    "        )\n",
    "\n",
    "        self.cnn2 = nn.Sequential(\n",
    "            nn.Conv2d(96, 256, kernel_size=5, padding=1),\n",
    "            nn.ReLU(),\n",
    "            nn.MaxPool2d(kernel_size=2, stride=1),\n",
    "            nn.BatchNorm2d(num_features=256),\n",
    "        )\n",
    "\n",
    "        self.cnn3 = nn.Sequential(\n",
    "            nn.Conv2d(256, 384, kernel_size=3, padding=1),\n",
    "            nn.ReLU(inplace=True),\n",
    "        )\n",
    "\n",
    "        self.cnn4 = nn.Sequential(\n",
    "            nn.Conv2d(384, 384, kernel_size=3, padding=1),\n",
    "            nn.ReLU(inplace=True),\n",
    "        )\n",
    "\n",
    "        self.cnn5 = nn.Sequential(\n",
    "            nn.Conv2d(384, 256, kernel_size=3, padding=1),\n",
    "            nn.ReLU(inplace=True),\n",
    "        )\n",
    "\n",
    "        if num_classes == 10:\n",
    "            self.fc_layers = nn.Sequential(\n",
    "                nn.Flatten(),\n",
    "                QLinear(256, 256) if quant and w_linear else Linear(256, 256),\n",
    "                nn.ReLU(inplace=True),\n",
    "                QLinear(256, 256) if quant and w_linear else Linear(256, 256),\n",
    "                nn.ReLU(inplace=True),\n",
    "                QLinear(256, 10) if quant and w_linear else Linear(256, 10),\n",
    "            )\n",
    "        elif num_classes == 200:\n",
    "            self.fc_layers = nn.Sequential(\n",
    "                nn.AvgPool2d(kernel_size=2),\n",
    "                nn.Flatten(),\n",
    "                nn.Linear(1024, 1024),\n",
    "                nn.ReLU(inplace=True),\n",
    "                nn.Linear(1024, 1024),\n",
    "                nn.ReLU(inplace=True),\n",
    "                nn.Linear(1024, 200),\n",
    "            )\n",
    "        elif num_classes == 1000:\n",
    "            self.fc_layers = nn.Sequential(\n",
    "                nn.AvgPool2d(kernel_size=4),\n",
    "                nn.Flatten(),\n",
    "                nn.Linear(9216, 4096),\n",
    "                nn.ReLU(),\n",
    "                nn.Linear(4096, 4096),\n",
    "                nn.ReLU(),\n",
    "                nn.Linear(4096, 1000),\n",
    "            )\n",
    "    \n",
    "    def forward(self, x):\n",
    "        out = self.cnn1(x)\n",
    "        out = self.cnn2(out)\n",
    "        out = self.cnn3(out)\n",
    "        out = self.cnn4(out)\n",
    "        out = self.cnn5(out)\n",
    "        out = self.fc_layers(out)\n",
    "\n",
    "        return out\n",
    "\n",
    "\"\"\"\n",
    "Standard implementation of VGG16 for ImageNet\n",
    "\"\"\"\n",
    "class VGGNet(nn.Module):\n",
    "    def __init__(self, num_classes):\n",
    "        super(VGGNet, self).__init__()\n",
    "        self.features = nn.Sequential(\n",
    "            nn.Conv2d(3, 64, 3, padding=1),  # Conv1\n",
    "            nn.ReLU(),\n",
    "            nn.Conv2d(64, 64, 3, padding=1),  # Conv2\n",
    "            nn.ReLU(),\n",
    "            nn.MaxPool2d(2, 2),  # Pool1\n",
    "\n",
    "            nn.Conv2d(64, 128, 3, padding=1),  # Conv3\n",
    "            nn.ReLU(),\n",
    "            nn.Conv2d(128, 128, 3, padding=1),  # Conv4\n",
    "            nn.ReLU(),\n",
    "            nn.MaxPool2d(2, 2),  # Pool2\n",
    "\n",
    "            nn.Conv2d(128, 256, 3, padding=1),  # Conv5\n",
    "            nn.ReLU(),\n",
    "            nn.Conv2d(256, 256, 3, padding=1),  # Conv6\n",
    "            nn.ReLU(),\n",
    "            nn.Conv2d(256, 256, 3, padding=1),  # Conv7\n",
    "            nn.ReLU(),\n",
    "            nn.MaxPool2d(2, 2),  # Pool3\n",
    "\n",
    "            nn.Conv2d(256, 512, 3, padding=1),  # Conv8\n",
    "            nn.ReLU(),\n",
    "            nn.Conv2d(512, 512, 3, padding=1),  # Conv9\n",
    "            nn.ReLU(),\n",
    "            nn.Conv2d(512, 512, 3, padding=1),  # Conv10\n",
    "            nn.ReLU(),\n",
    "            nn.MaxPool2d(2, 2),  # Pool4\n",
    "\n",
    "            nn.Conv2d(512, 512, 3, padding=1),  # Conv11\n",
    "            nn.ReLU(),\n",
    "            nn.Conv2d(512, 512, 3, padding=1),  # Conv12\n",
    "            nn.ReLU(),\n",
    "            nn.Conv2d(512, 512, 3, padding=1),  # Conv13\n",
    "            nn.ReLU(),\n",
    "            nn.MaxPool2d(2, 2)  # Pool5 是否还需要此池化层，每个通道的数据已经被降为1*1\n",
    "        )\n",
    "\n",
    "        self.classifier = nn.Sequential(\n",
    "            nn.Linear(7*7*512, 4096),\n",
    "            nn.ReLU(),\n",
    "            nn.Dropout(),\n",
    "            nn.Linear(4096, 4096),\n",
    "            nn.ReLU(),\n",
    "            nn.Dropout(),\n",
    "            nn.Linear(4096, 1000),\n",
    "        )\n",
    "\n",
    "\"\"\"\n",
    "Standard implementation of VGG16 for CIFAR-10\n",
    "https://www.kaggle.com/willzy/vgg16-with-cifar10\n",
    "\"\"\"\n",
    "class VGG16(nn.Module):\n",
    "    def __init__(self, num_classes=10) -> None:\n",
    "        super().__init__()\n",
    "\n",
    "        self.features = nn.Sequential(\n",
    "            nn.Conv2d(3, 64, kernel_size=3, stride=1, padding=1),\n",
    "            nn.ReLU(inplace=True),\n",
    "            nn.Conv2d(64, 64, kernel_size=3, stride=1, padding=1),\n",
    "            nn.MaxPool2d(kernel_size=2, stride=2),\n",
    "            nn.ReLU(inplace=True),\n",
    "\n",
    "            nn.Conv2d(64, 128, kernel_size=3, stride=1, padding=1),\n",
    "            nn.ReLU(inplace=True),\n",
    "            nn.Conv2d(128, 128, kernel_size=3, padding=1),\n",
    "            nn.MaxPool2d(kernel_size=2, stride=2),\n",
    "            nn.ReLU(inplace=True),\n",
    "\n",
    "            nn.Conv2d(128, 256, kernel_size=3, padding=1),\n",
    "            nn.ReLU(inplace=True),\n",
    "            nn.Conv2d(256, 256, kernel_size=3, padding=1),\n",
    "            nn.ReLU(inplace=True),\n",
    "            nn.Conv2d(256, 256, kernel_size=3, padding=1),\n",
    "            nn.MaxPool2d(kernel_size=2, stride=2),\n",
    "            nn.ReLU(inplace=True),\n",
    "\n",
    "            nn.Conv2d(256, 512, kernel_size=3, padding=1),\n",
    "            nn.ReLU(inplace=True),\n",
    "            nn.Conv2d(512, 512, kernel_size=3, padding=1),\n",
    "            nn.ReLU(inplace=True),\n",
    "            nn.Conv2d(512, 512, kernel_size=3, padding=1),\n",
    "            nn.MaxPool2d(kernel_size=2, stride=2),\n",
    "            nn.ReLU(inplace=True),\n",
    "\n",
    "            nn.Conv2d(512, 512, kernel_size=3, padding=1),\n",
    "            nn.ReLU(inplace=True),\n",
    "            nn.Conv2d(512, 512, kernel_size=3, padding=1),\n",
    "            nn.ReLU(inplace=True),\n",
    "            nn.Conv2d(512, 512, kernel_size=3, padding=1),\n",
    "            nn.MaxPool2d(kernel_size=2, stride=2),\n",
    "            nn.ReLU(inplace=True),\n",
    "        )\n",
    "\n",
    "        if num_classes == 10:\n",
    "            self.classifier = nn.Sequential(\n",
    "                nn.Flatten(),\n",
    "                nn.Linear(512, 256),\n",
    "                nn.ReLU(),\n",
    "                nn.Linear(256, 256),\n",
    "                nn.ReLU(),\n",
    "                nn.Linear(256, 10),\n",
    "            )\n",
    "        elif num_classes == 200:\n",
    "            self.classifier = nn.Sequential(\n",
    "                nn.AvgPool2d(2),\n",
    "                nn.Flatten(),\n",
    "                nn.Linear(512, 512),\n",
    "                nn.ReLU(),\n",
    "                nn.Linear(512, 512),\n",
    "                nn.ReLU(),\n",
    "                nn.Linear(512, 200),\n",
    "            )\n",
    "        elif num_classes == 1000:\n",
    "            self.classifier = nn.Sequential(\n",
    "                nn.AvgPool2d(2),\n",
    "                nn.Flatten(),\n",
    "                nn.Linear(4608, 4096),\n",
    "                nn.Linear(4096, 4096),\n",
    "                nn.Linear(4096, 1000)\n",
    "            )\n",
    "\n",
    "    def forward(self, x):\n",
    "        x = self.features(x)\n",
    "        x = self.classifier(x)\n",
    "        return x\n",
    "\n",
    "    #     self.features = nn.Sequential(\n",
    "    #         nn.Conv2d(3, 32, 3, padding=1),  # Conv1\n",
    "    #         nn.ReLU(),\n",
    "    #         nn.Conv2d(32, 32, 3, padding=1),  # Conv2\n",
    "    #         nn.ReLU(),\n",
    "    #         nn.MaxPool2d(2, 2),  # Pool1\n",
    "\n",
    "    #         nn.Conv2d(32, 64, 3, padding=1),  # Conv3\n",
    "    #         nn.ReLU(),\n",
    "    #         nn.Conv2d(64, 64, 3, padding=1),  # Conv4\n",
    "    #         nn.ReLU(),\n",
    "    #         nn.MaxPool2d(2, 2),  # Pool2\n",
    "\n",
    "    #         nn.Conv2d(64, 128, 3, padding=1),  # Conv5\n",
    "    #         nn.ReLU(),\n",
    "    #         nn.Conv2d(128, 128, 3, padding=1),  # Conv6\n",
    "    #         nn.ReLU(),\n",
    "    #         nn.Conv2d(128, 128, 3, padding=1),  # Conv7\n",
    "    #         nn.ReLU(),\n",
    "    #         nn.MaxPool2d(2, 2),  # Pool3\n",
    "\n",
    "    #         nn.Conv2d(128, 256, 3, padding=1),  # Conv8\n",
    "    #         nn.ReLU(),\n",
    "    #         nn.Conv2d(256, 256, 3, padding=1),  # Conv9\n",
    "    #         nn.ReLU(),\n",
    "    #         nn.Conv2d(256, 256, 3, padding=1),  # Conv10\n",
    "    #         nn.ReLU(),\n",
    "    #         nn.MaxPool2d(2, 2),  # Pool4\n",
    "\n",
    "    #         nn.Conv2d(256, 256, 3, padding=1),  # Conv11\n",
    "    #         nn.ReLU(),\n",
    "    #         nn.Conv2d(256, 256, 3, padding=1),  # Conv12\n",
    "    #         nn.ReLU(),\n",
    "    #         nn.Conv2d(256, 256, 3, padding=1),  # Conv13\n",
    "    #         nn.ReLU(),\n",
    "    #         # nn.MaxPool2d(2, 2)  # Pool5 是否还需要此池化层，每个通道的数据已经被降为1*1\n",
    "    #     )\n",
    "\n",
    "    #     self.classifier = nn.Sequential(\n",
    "    #         nn.Flatten(),\n",
    "    #         QLinear(2 * 2 * 256, 512) if quant and w_linear else Linear(2 * 2 * 256, 512) ,\n",
    "    #         nn.ReLU(),\n",
    "    #         nn.Dropout(),\n",
    "    #         QLinear(512, 512) if quant and w_linear else Linear(512, 512),\n",
    "    #         nn.ReLU(),\n",
    "    #         nn.Dropout(),\n",
    "    #         QLinear(512, 10) if quant and w_linear else Linear(512, 10),\n",
    "    #     )\n",
    "    \n",
    "    # def forward(self, x):\n",
    "    #     out = self.features(x)\n",
    "    #     out = self.classifier(out)\n",
    "    #     return out\n",
    "        "
   ]
  },
  {
   "cell_type": "markdown",
   "metadata": {},
   "source": [
    "## Load data"
   ]
  },
  {
   "cell_type": "code",
   "execution_count": 66,
   "metadata": {},
   "outputs": [
    {
     "name": "stdout",
     "output_type": "stream",
     "text": [
      "Files already downloaded and verified\n",
      "Files already downloaded and verified\n"
     ]
    }
   ],
   "source": [
    "from torchvision import datasets, transforms\n",
    "\n",
    "\n",
    "# MNIST Dataset\n",
    "if ds == 'MNIST':\n",
    "    train_dataset = datasets.MNIST(root='./data/',\n",
    "                                train=True,\n",
    "                                transform=transforms.ToTensor(),\n",
    "                                download=True)\n",
    "\n",
    "    test_dataset = datasets.MNIST(root='./data/',\n",
    "                                train=False,\n",
    "                                transform=transforms.ToTensor())\n",
    "\n",
    "    # Data Loader (Input Pipeline)\n",
    "    train_loader = torch.utils.data.DataLoader(dataset=train_dataset,\n",
    "                                            batch_size=batch_size,\n",
    "                                            shuffle=True)\n",
    "\n",
    "    test_loader = torch.utils.data.DataLoader(dataset=test_dataset,\n",
    "                                            batch_size=batch_size,\n",
    "                                            shuffle=False)\n",
    "elif ds == 'CIFAR-10':\n",
    "    # CIFAR-10 Dataset\n",
    "    transform = transforms.Compose(\n",
    "        [transforms.ToTensor(),\n",
    "        transforms.Normalize((0.5, 0.5, 0.5), (0.5, 0.5, 0.5))])\n",
    "\n",
    "    batch_size = 32\n",
    "\n",
    "    train_dataset = datasets.CIFAR10(root='./data', train=True,\n",
    "                                            download=True, transform=transform)\n",
    "    train_loader = torch.utils.data.DataLoader(train_dataset, batch_size=batch_size,\n",
    "                                            shuffle=True, num_workers=2)\n",
    "\n",
    "    test_dataset = datasets.CIFAR10(root='./data', train=False,\n",
    "                                        download=True, transform=transform)\n",
    "    test_loader = torch.utils.data.DataLoader(test_dataset, batch_size=batch_size,\n",
    "                                            shuffle=False, num_workers=2)\n",
    "\n"
   ]
  },
  {
   "cell_type": "markdown",
   "metadata": {},
   "source": [
    "## Model Construction"
   ]
  },
  {
   "cell_type": "code",
   "execution_count": 67,
   "metadata": {},
   "outputs": [],
   "source": [
    "from PyTransformer.transformers.torchTransformer import TorchTransformer\n",
    "\n",
    "torch.manual_seed(0)\n",
    "\n",
    "if model_name == 'SecureML':\n",
    "    model = SecureML()\n",
    "elif model_name == \"MiniONN\":\n",
    "    model = MiniONN()\n",
    "elif model_name == \"LeNet\":\n",
    "    model = LeNet()\n",
    "elif model_name == \"AlexNet\":    \n",
    "    model = AlexNet()\n",
    "# model = VGG16()\n",
    "\n",
    "if quant and w_conv:\n",
    "    transformer = TorchTransformer()\n",
    "    transformer.register(torch.nn.Conv2d, QConv2d)\n",
    "    # transformer.register(torch.nn.Linear, QLinear)        # TODO: currently, there is a bug.\n",
    "    model = transformer.trans_layers(model)\n",
    "# for name, modules in model.named_modules():\n",
    "#     print(name)\n",
    "\n",
    "\n",
    "optimizer = optim.SGD(model.parameters(), lr = 0.1)"
   ]
  },
  {
   "cell_type": "markdown",
   "metadata": {},
   "source": [
    "## Train Procedure"
   ]
  },
  {
   "cell_type": "code",
   "execution_count": 68,
   "metadata": {},
   "outputs": [],
   "source": [
    "from tensorboardX import SummaryWriter\n",
    "logger = SummaryWriter(log_dir = \"log\")\n",
    "\n",
    "\n",
    "def train(epoch):\n",
    "    total_loss = 0\n",
    "\n",
    "    for batch_idx, (feature, label) in enumerate(train_loader):\n",
    "        feature, label = Variable(feature), Variable(label)\n",
    "        optimizer.zero_grad()\n",
    "\n",
    "        # re-scale from [0,1] to [-1,1]\n",
    "        if re_scale: \n",
    "            feature = 2 * feature - 1\n",
    "        output = model(feature)\n",
    "        label_raw = label\n",
    "        label = F.one_hot(label, num_classes=10).type(torch.float)\n",
    "        loss = F.cross_entropy(output, label_raw)\n",
    "        loss.backward()\n",
    "\n",
    "        total_loss += loss.item()\n",
    "\n",
    "        optimizer.step()\n",
    "\n",
    "        global_iter_num = epoch * len(train_loader) + batch_idx + 1\n",
    "\n",
    "        if batch_idx % 100 == 0:\n",
    "            print('Train Epoch: {} [{}/{} ({:.0f}%)]\\tLoss: {:.6f}'.format(\n",
    "                epoch, batch_idx * len(feature), len(train_loader.dataset),\n",
    "                100. * batch_idx / len(train_loader), total_loss/100))\n",
    "            total_loss = 0\n",
    "\n",
    "            pred = output.data.max(1, keepdim=True)[1]\n",
    "            correct = pred.eq(label_raw.data.view_as(pred)).cpu().sum()\n",
    "            train_acc = 100. * correct / len(feature)\n",
    "\n",
    "            acc = test()\n",
    "\n",
    "\n",
    "            \"\"\"\n",
    "            log into tensorboard\n",
    "            https://stackoverflow.com/questions/37304461/tensorflow-importing-data-from-a-tensorboard-tfevent-file\n",
    "            \"\"\"\n",
    "            logger.add_scalar(\"train loss\", loss.item(), global_iter_num)\n",
    "            logger.add_scalar(\"train accuracy\", train_acc, global_iter_num)\n",
    "            logger.add_scalar(\"test accuracy\", acc, global_iter_num)\n",
    "            for name, param in model.named_parameters():\n",
    "                logger.add_histogram(name, param.data.numpy(), global_iter_num)\n",
    "                logger.add_histogram(name+\"_grad\", param.grad.numpy(), global_iter_num)\n",
    "            for name, module in model.named_modules():\n",
    "                logger.add_histogram(name, activations[name], global_iter_num)\n",
    "                \n",
    "def test():\n",
    "    test_loss = 0\n",
    "    correct = 0\n",
    "    for data, target in test_loader:\n",
    "        data, target = Variable(data, volatile=True), Variable(target)\n",
    "        if re_scale:\n",
    "            data = 2 * data -1\n",
    "        output = model(data)\n",
    "        # sum up batch loss\n",
    "        test_loss += F.cross_entropy(output, target, size_average=False).item()\n",
    "        # get the index of the max log-probability\n",
    "        pred = output.data.max(1, keepdim=True)[1]\n",
    "        correct += pred.eq(target.data.view_as(pred)).cpu().sum()\n",
    "\n",
    "    test_loss /= len(test_loader.dataset)\n",
    "    print('\\nTest set: Average loss: {:.4f}, Accuracy: {}/{} ({:.0f}%)\\n'.format(\n",
    "        test_loss, correct, len(test_loader.dataset),\n",
    "        100. * correct / len(test_loader.dataset)))\n",
    "    return 100. * correct / len(test_loader.dataset)\n"
   ]
  },
  {
   "cell_type": "markdown",
   "metadata": {},
   "source": [
    "## Hook for logging activation outputs"
   ]
  },
  {
   "cell_type": "code",
   "execution_count": 69,
   "metadata": {},
   "outputs": [],
   "source": [
    "\"\"\" hook for activation \"\"\"\n",
    "activations = {}\n",
    "def get_activation(name):\n",
    "    def hook(model, input, output):\n",
    "        activations[name] = output.detach()\n",
    "    return hook\n",
    "for name, module in model.named_modules():\n",
    "    module.register_forward_hook(get_activation(name))"
   ]
  },
  {
   "cell_type": "markdown",
   "metadata": {},
   "source": [
    "## Log"
   ]
  },
  {
   "cell_type": "code",
   "execution_count": 70,
   "metadata": {},
   "outputs": [
    {
     "name": "stdout",
     "output_type": "stream",
     "text": [
      "==================== Training Setting ====================\n",
      "Batch size:  32\n",
      "Dataset:  CIFAR-10\n",
      "Data re-scale:  False\n",
      "Model: \n",
      "AlexNet(\n",
      "  (cnn1): Sequential(\n",
      "    (0): Conv2d(3, 96, kernel_size=(11, 11), stride=(4, 4), padding=(9, 9))\n",
      "    (1): ReLU()\n",
      "    (2): MaxPool2d(kernel_size=3, stride=2, padding=0, dilation=1, ceil_mode=False)\n",
      "    (3): BatchNorm2d(96, eps=1e-05, momentum=0.1, affine=True, track_running_stats=True)\n",
      "  )\n",
      "  (cnn2): Sequential(\n",
      "    (0): Conv2d(96, 256, kernel_size=(5, 5), stride=(1, 1), padding=(1, 1))\n",
      "    (1): ReLU()\n",
      "    (2): MaxPool2d(kernel_size=2, stride=1, padding=0, dilation=1, ceil_mode=False)\n",
      "    (3): BatchNorm2d(256, eps=1e-05, momentum=0.1, affine=True, track_running_stats=True)\n",
      "  )\n",
      "  (cnn3): Sequential(\n",
      "    (0): Conv2d(256, 384, kernel_size=(3, 3), stride=(1, 1), padding=(1, 1))\n",
      "    (1): ReLU(inplace=True)\n",
      "  )\n",
      "  (cnn4): Sequential(\n",
      "    (0): Conv2d(384, 384, kernel_size=(3, 3), stride=(1, 1), padding=(1, 1))\n",
      "    (1): ReLU(inplace=True)\n",
      "  )\n",
      "  (cnn5): Sequential(\n",
      "    (0): Conv2d(384, 256, kernel_size=(3, 3), stride=(1, 1), padding=(1, 1))\n",
      "    (1): ReLU(inplace=True)\n",
      "  )\n",
      "  (fc_layers): Sequential(\n",
      "    (0): Flatten(start_dim=1, end_dim=-1)\n",
      "    (1): Linear(in_features=256, out_features=256, bias=True)\n",
      "    (2): ReLU(inplace=True)\n",
      "    (3): Linear(in_features=256, out_features=256, bias=True)\n",
      "    (4): ReLU(inplace=True)\n",
      "    (5): Linear(in_features=256, out_features=10, bias=True)\n",
      "  )\n",
      ")\n",
      "==================== Quantization Setting ====================\n",
      "Quant: False, \tw_linear: True,  \tw_conv: True\n",
      "\tForward: \t32\t12\n",
      "\tBackward: \t64\t20\n"
     ]
    }
   ],
   "source": [
    "print(\"=\"*20, \"Training Setting\", \"=\"*20)\n",
    "print(\"Batch size: \", batch_size)\n",
    "print(\"Dataset: \", ds)\n",
    "print(\"Data re-scale: \", re_scale)\n",
    "print(\"Model: \")\n",
    "print(model)\n",
    "\n",
    "print(\"=\"*20, \"Quantization Setting\", \"=\"*20)\n",
    "print(\"Quant: {0}, \\tw_linear: {1},  \\tw_conv: {2}\".format(quant, w_linear, w_conv))\n",
    "print(\"\\tForward: \\t{0}\\t{1}\\n\\tBackward: \\t{2}\\t{3}\".format(bitw_forward, bitf_forward,  bitw_backward, bitf_backward))"
   ]
  },
  {
   "cell_type": "code",
   "execution_count": 71,
   "metadata": {},
   "outputs": [
    {
     "name": "stdout",
     "output_type": "stream",
     "text": [
      "Train Epoch: 1 [0/50000 (0%)]\tLoss: 0.022906\n"
     ]
    },
    {
     "name": "stderr",
     "output_type": "stream",
     "text": [
      "<ipython-input-68-d5cfd72ff398>:57: UserWarning: volatile was removed and now has no effect. Use `with torch.no_grad():` instead.\n",
      "  data, target = Variable(data, volatile=True), Variable(target)\n",
      "/home/whq/anaconda3/lib/python3.8/site-packages/torch/nn/_reduction.py:42: UserWarning: size_average and reduce args will be deprecated, please use reduction='sum' instead.\n",
      "  warnings.warn(warning.format(ret))\n"
     ]
    },
    {
     "name": "stdout",
     "output_type": "stream",
     "text": [
      "\n",
      "Test set: Average loss: 2.3035, Accuracy: 1000/10000 (10%)\n",
      "\n",
      "Train Epoch: 1 [3200/50000 (6%)]\tLoss: 2.304071\n",
      "\n",
      "Test set: Average loss: 2.3034, Accuracy: 1000/10000 (10%)\n",
      "\n",
      "Train Epoch: 1 [6400/50000 (13%)]\tLoss: 2.303971\n",
      "\n",
      "Test set: Average loss: 2.3030, Accuracy: 1000/10000 (10%)\n",
      "\n",
      "Train Epoch: 1 [9600/50000 (19%)]\tLoss: 2.302267\n",
      "\n",
      "Test set: Average loss: 2.3044, Accuracy: 1000/10000 (10%)\n",
      "\n",
      "Train Epoch: 1 [12800/50000 (26%)]\tLoss: 2.303759\n",
      "\n",
      "Test set: Average loss: 2.3033, Accuracy: 1000/10000 (10%)\n",
      "\n",
      "Train Epoch: 1 [16000/50000 (32%)]\tLoss: 2.303670\n",
      "\n",
      "Test set: Average loss: 2.3028, Accuracy: 1000/10000 (10%)\n",
      "\n",
      "Train Epoch: 1 [19200/50000 (38%)]\tLoss: 2.302936\n",
      "\n",
      "Test set: Average loss: 2.3025, Accuracy: 1594/10000 (16%)\n",
      "\n",
      "Train Epoch: 1 [22400/50000 (45%)]\tLoss: 2.302432\n",
      "\n",
      "Test set: Average loss: 2.3019, Accuracy: 1000/10000 (10%)\n",
      "\n",
      "Train Epoch: 1 [25600/50000 (51%)]\tLoss: 2.301281\n",
      "\n",
      "Test set: Average loss: 2.2981, Accuracy: 1000/10000 (10%)\n",
      "\n",
      "Train Epoch: 1 [28800/50000 (58%)]\tLoss: 2.287814\n",
      "\n",
      "Test set: Average loss: 2.2550, Accuracy: 1822/10000 (18%)\n",
      "\n",
      "Train Epoch: 1 [32000/50000 (64%)]\tLoss: 2.106306\n",
      "\n",
      "Test set: Average loss: 2.0352, Accuracy: 1933/10000 (19%)\n",
      "\n",
      "Train Epoch: 1 [35200/50000 (70%)]\tLoss: 2.003109\n",
      "\n",
      "Test set: Average loss: 1.9899, Accuracy: 1947/10000 (19%)\n",
      "\n",
      "Train Epoch: 1 [38400/50000 (77%)]\tLoss: 1.956472\n",
      "\n",
      "Test set: Average loss: 1.9630, Accuracy: 2078/10000 (21%)\n",
      "\n",
      "Train Epoch: 1 [41600/50000 (83%)]\tLoss: 1.953375\n",
      "\n",
      "Test set: Average loss: 1.9189, Accuracy: 2129/10000 (21%)\n",
      "\n",
      "Train Epoch: 1 [44800/50000 (90%)]\tLoss: 1.925906\n",
      "\n",
      "Test set: Average loss: 1.9023, Accuracy: 2110/10000 (21%)\n",
      "\n",
      "Train Epoch: 1 [48000/50000 (96%)]\tLoss: 1.896783\n",
      "\n",
      "Test set: Average loss: 1.8447, Accuracy: 2977/10000 (30%)\n",
      "\n",
      "\n",
      "Test set: Average loss: 1.7624, Accuracy: 2771/10000 (28%)\n",
      "\n",
      "Train Epoch: 2 [0/50000 (0%)]\tLoss: 0.018074\n",
      "\n",
      "Test set: Average loss: 1.7697, Accuracy: 2824/10000 (28%)\n",
      "\n",
      "Train Epoch: 2 [3200/50000 (6%)]\tLoss: 1.777471\n",
      "\n",
      "Test set: Average loss: 1.7705, Accuracy: 3075/10000 (31%)\n",
      "\n",
      "Train Epoch: 2 [6400/50000 (13%)]\tLoss: 1.730333\n",
      "\n",
      "Test set: Average loss: 1.7363, Accuracy: 3063/10000 (31%)\n",
      "\n",
      "Train Epoch: 2 [9600/50000 (19%)]\tLoss: 1.689892\n",
      "\n",
      "Test set: Average loss: 1.6631, Accuracy: 3578/10000 (36%)\n",
      "\n",
      "Train Epoch: 2 [12800/50000 (26%)]\tLoss: 1.693549\n",
      "\n",
      "Test set: Average loss: 1.6374, Accuracy: 3903/10000 (39%)\n",
      "\n",
      "Train Epoch: 2 [16000/50000 (32%)]\tLoss: 1.665800\n",
      "\n",
      "Test set: Average loss: 1.6209, Accuracy: 3796/10000 (38%)\n",
      "\n",
      "Train Epoch: 2 [19200/50000 (38%)]\tLoss: 1.608688\n",
      "\n",
      "Test set: Average loss: 1.7204, Accuracy: 3812/10000 (38%)\n",
      "\n",
      "Train Epoch: 2 [22400/50000 (45%)]\tLoss: 1.587684\n",
      "\n",
      "Test set: Average loss: 1.5662, Accuracy: 4259/10000 (43%)\n",
      "\n",
      "Train Epoch: 2 [25600/50000 (51%)]\tLoss: 1.547940\n",
      "\n",
      "Test set: Average loss: 1.5904, Accuracy: 3918/10000 (39%)\n",
      "\n",
      "Train Epoch: 2 [28800/50000 (58%)]\tLoss: 1.557408\n",
      "\n",
      "Test set: Average loss: 1.4855, Accuracy: 4350/10000 (44%)\n",
      "\n",
      "Train Epoch: 2 [32000/50000 (64%)]\tLoss: 1.493793\n",
      "\n",
      "Test set: Average loss: 1.4631, Accuracy: 4583/10000 (46%)\n",
      "\n",
      "Train Epoch: 2 [35200/50000 (70%)]\tLoss: 1.506148\n",
      "\n",
      "Test set: Average loss: 1.4757, Accuracy: 4462/10000 (45%)\n",
      "\n",
      "Train Epoch: 2 [38400/50000 (77%)]\tLoss: 1.478249\n",
      "\n",
      "Test set: Average loss: 1.5004, Accuracy: 4344/10000 (43%)\n",
      "\n",
      "Train Epoch: 2 [41600/50000 (83%)]\tLoss: 1.465318\n"
     ]
    }
   ],
   "source": [
    "for epoch in range(1, 5):\n",
    "    train(epoch)\n",
    "    test()"
   ]
  },
  {
   "cell_type": "code",
   "execution_count": null,
   "metadata": {},
   "outputs": [
    {
     "name": "stdout",
     "output_type": "stream",
     "text": [
      "log/AlexNet/quant/cnn1.0.weight.pdf\n",
      "log/AlexNet/quant/cnn1.0.weight_grad.pdf\n",
      "log/AlexNet/quant/cnn1.0.bias.pdf\n",
      "log/AlexNet/quant/cnn1.0.bias_grad.pdf\n",
      "log/AlexNet/quant/cnn1.3.weight.pdf\n",
      "log/AlexNet/quant/cnn1.3.weight_grad.pdf\n",
      "log/AlexNet/quant/cnn1.3.bias.pdf\n",
      "log/AlexNet/quant/cnn1.3.bias_grad.pdf\n",
      "log/AlexNet/quant/cnn2.0.weight.pdf\n",
      "log/AlexNet/quant/cnn2.0.weight_grad.pdf\n",
      "log/AlexNet/quant/cnn2.0.bias.pdf\n",
      "log/AlexNet/quant/cnn2.0.bias_grad.pdf\n",
      "log/AlexNet/quant/cnn2.3.weight.pdf\n",
      "log/AlexNet/quant/cnn2.3.weight_grad.pdf\n",
      "log/AlexNet/quant/cnn2.3.bias.pdf\n",
      "log/AlexNet/quant/cnn2.3.bias_grad.pdf\n",
      "log/AlexNet/quant/cnn3.0.weight.pdf\n",
      "log/AlexNet/quant/cnn3.0.weight_grad.pdf\n",
      "log/AlexNet/quant/cnn3.0.bias.pdf\n"
     ]
    },
    {
     "name": "stderr",
     "output_type": "stream",
     "text": [
      "<ipython-input-59-350be02b19d1>:23: RuntimeWarning: More than 20 figures have been opened. Figures created through the pyplot interface (`matplotlib.pyplot.figure`) are retained until explicitly closed and may consume too much memory. (To control this warning, see the rcParam `figure.max_open_warning`).\n",
      "  fig, ax = plt.subplots()\n"
     ]
    },
    {
     "name": "stdout",
     "output_type": "stream",
     "text": [
      "log/AlexNet/quant/cnn3.0.bias_grad.pdf\n",
      "log/AlexNet/quant/cnn4.0.weight.pdf\n",
      "log/AlexNet/quant/cnn4.0.weight_grad.pdf\n",
      "log/AlexNet/quant/cnn4.0.bias.pdf\n",
      "log/AlexNet/quant/cnn4.0.bias_grad.pdf\n",
      "log/AlexNet/quant/cnn5.0.weight.pdf\n",
      "log/AlexNet/quant/cnn5.0.weight_grad.pdf\n",
      "log/AlexNet/quant/cnn5.0.bias.pdf\n",
      "log/AlexNet/quant/cnn5.0.bias_grad.pdf\n",
      "log/AlexNet/quant/fc_layers.1.weight.pdf\n",
      "log/AlexNet/quant/fc_layers.1.weight_grad.pdf\n",
      "log/AlexNet/quant/fc_layers.1.bias.pdf\n",
      "log/AlexNet/quant/fc_layers.1.bias_grad.pdf\n",
      "log/AlexNet/quant/fc_layers.3.weight.pdf\n",
      "log/AlexNet/quant/fc_layers.3.weight_grad.pdf\n",
      "log/AlexNet/quant/fc_layers.3.bias.pdf\n",
      "log/AlexNet/quant/fc_layers.3.bias_grad.pdf\n",
      "log/AlexNet/quant/fc_layers.5.weight.pdf\n",
      "log/AlexNet/quant/fc_layers.5.weight_grad.pdf\n",
      "log/AlexNet/quant/fc_layers.5.bias.pdf\n",
      "log/AlexNet/quant/fc_layers.5.bias_grad.pdf\n",
      "log/AlexNet/quant/.act.pdf\n",
      "log/AlexNet/quant/cnn1.act.pdf\n",
      "log/AlexNet/quant/cnn1.0.act.pdf\n",
      "log/AlexNet/quant/cnn1.1.act.pdf\n",
      "log/AlexNet/quant/cnn1.2.act.pdf\n",
      "log/AlexNet/quant/cnn1.3.act.pdf\n",
      "log/AlexNet/quant/cnn2.act.pdf\n",
      "log/AlexNet/quant/cnn2.0.act.pdf\n",
      "log/AlexNet/quant/cnn2.1.act.pdf\n",
      "log/AlexNet/quant/cnn2.2.act.pdf\n",
      "log/AlexNet/quant/cnn2.3.act.pdf\n",
      "log/AlexNet/quant/cnn3.act.pdf\n",
      "log/AlexNet/quant/cnn3.0.act.pdf\n",
      "log/AlexNet/quant/cnn3.1.act.pdf\n",
      "log/AlexNet/quant/cnn4.act.pdf\n",
      "log/AlexNet/quant/cnn4.0.act.pdf\n",
      "log/AlexNet/quant/cnn4.1.act.pdf\n",
      "log/AlexNet/quant/cnn5.act.pdf\n",
      "log/AlexNet/quant/cnn5.0.act.pdf\n",
      "log/AlexNet/quant/cnn5.1.act.pdf\n",
      "log/AlexNet/quant/fc_layers.act.pdf\n",
      "log/AlexNet/quant/fc_layers.0.act.pdf\n",
      "log/AlexNet/quant/fc_layers.1.act.pdf\n",
      "log/AlexNet/quant/fc_layers.2.act.pdf\n",
      "log/AlexNet/quant/fc_layers.3.act.pdf\n",
      "log/AlexNet/quant/fc_layers.4.act.pdf\n",
      "log/AlexNet/quant/fc_layers.5.act.pdf\n"
     ]
    },
    {
     "data": {
      "text/plain": [
       "<Figure size 432x288 with 0 Axes>"
      ]
     },
     "metadata": {},
     "output_type": "display_data"
    },
    {
     "data": {
      "text/plain": [
       "<Figure size 432x288 with 0 Axes>"
      ]
     },
     "metadata": {},
     "output_type": "display_data"
    },
    {
     "data": {
      "text/plain": [
       "<Figure size 432x288 with 0 Axes>"
      ]
     },
     "metadata": {},
     "output_type": "display_data"
    },
    {
     "data": {
      "text/plain": [
       "<Figure size 432x288 with 0 Axes>"
      ]
     },
     "metadata": {},
     "output_type": "display_data"
    },
    {
     "data": {
      "text/plain": [
       "<Figure size 432x288 with 0 Axes>"
      ]
     },
     "metadata": {},
     "output_type": "display_data"
    },
    {
     "data": {
      "text/plain": [
       "<Figure size 432x288 with 0 Axes>"
      ]
     },
     "metadata": {},
     "output_type": "display_data"
    },
    {
     "data": {
      "text/plain": [
       "<Figure size 432x288 with 0 Axes>"
      ]
     },
     "metadata": {},
     "output_type": "display_data"
    },
    {
     "data": {
      "text/plain": [
       "<Figure size 432x288 with 0 Axes>"
      ]
     },
     "metadata": {},
     "output_type": "display_data"
    },
    {
     "data": {
      "text/plain": [
       "<Figure size 432x288 with 0 Axes>"
      ]
     },
     "metadata": {},
     "output_type": "display_data"
    },
    {
     "data": {
      "text/plain": [
       "<Figure size 432x288 with 0 Axes>"
      ]
     },
     "metadata": {},
     "output_type": "display_data"
    },
    {
     "data": {
      "text/plain": [
       "<Figure size 432x288 with 0 Axes>"
      ]
     },
     "metadata": {},
     "output_type": "display_data"
    },
    {
     "data": {
      "text/plain": [
       "<Figure size 432x288 with 0 Axes>"
      ]
     },
     "metadata": {},
     "output_type": "display_data"
    },
    {
     "data": {
      "text/plain": [
       "<Figure size 432x288 with 0 Axes>"
      ]
     },
     "metadata": {},
     "output_type": "display_data"
    },
    {
     "data": {
      "text/plain": [
       "<Figure size 432x288 with 0 Axes>"
      ]
     },
     "metadata": {},
     "output_type": "display_data"
    },
    {
     "data": {
      "text/plain": [
       "<Figure size 432x288 with 0 Axes>"
      ]
     },
     "metadata": {},
     "output_type": "display_data"
    },
    {
     "data": {
      "text/plain": [
       "<Figure size 432x288 with 0 Axes>"
      ]
     },
     "metadata": {},
     "output_type": "display_data"
    },
    {
     "data": {
      "text/plain": [
       "<Figure size 432x288 with 0 Axes>"
      ]
     },
     "metadata": {},
     "output_type": "display_data"
    },
    {
     "data": {
      "text/plain": [
       "<Figure size 432x288 with 0 Axes>"
      ]
     },
     "metadata": {},
     "output_type": "display_data"
    },
    {
     "data": {
      "text/plain": [
       "<Figure size 432x288 with 0 Axes>"
      ]
     },
     "metadata": {},
     "output_type": "display_data"
    },
    {
     "data": {
      "text/plain": [
       "<Figure size 432x288 with 0 Axes>"
      ]
     },
     "metadata": {},
     "output_type": "display_data"
    },
    {
     "data": {
      "text/plain": [
       "<Figure size 432x288 with 0 Axes>"
      ]
     },
     "metadata": {},
     "output_type": "display_data"
    },
    {
     "data": {
      "text/plain": [
       "<Figure size 432x288 with 0 Axes>"
      ]
     },
     "metadata": {},
     "output_type": "display_data"
    },
    {
     "data": {
      "text/plain": [
       "<Figure size 432x288 with 0 Axes>"
      ]
     },
     "metadata": {},
     "output_type": "display_data"
    },
    {
     "data": {
      "text/plain": [
       "<Figure size 432x288 with 0 Axes>"
      ]
     },
     "metadata": {},
     "output_type": "display_data"
    },
    {
     "data": {
      "text/plain": [
       "<Figure size 432x288 with 0 Axes>"
      ]
     },
     "metadata": {},
     "output_type": "display_data"
    },
    {
     "data": {
      "text/plain": [
       "<Figure size 432x288 with 0 Axes>"
      ]
     },
     "metadata": {},
     "output_type": "display_data"
    },
    {
     "data": {
      "text/plain": [
       "<Figure size 432x288 with 0 Axes>"
      ]
     },
     "metadata": {},
     "output_type": "display_data"
    },
    {
     "data": {
      "text/plain": [
       "<Figure size 432x288 with 0 Axes>"
      ]
     },
     "metadata": {},
     "output_type": "display_data"
    },
    {
     "data": {
      "text/plain": [
       "<Figure size 432x288 with 0 Axes>"
      ]
     },
     "metadata": {},
     "output_type": "display_data"
    },
    {
     "data": {
      "text/plain": [
       "<Figure size 432x288 with 0 Axes>"
      ]
     },
     "metadata": {},
     "output_type": "display_data"
    },
    {
     "data": {
      "text/plain": [
       "<Figure size 432x288 with 0 Axes>"
      ]
     },
     "metadata": {},
     "output_type": "display_data"
    },
    {
     "data": {
      "text/plain": [
       "<Figure size 432x288 with 0 Axes>"
      ]
     },
     "metadata": {},
     "output_type": "display_data"
    },
    {
     "data": {
      "text/plain": [
       "<Figure size 432x288 with 0 Axes>"
      ]
     },
     "metadata": {},
     "output_type": "display_data"
    },
    {
     "data": {
      "text/plain": [
       "<Figure size 432x288 with 0 Axes>"
      ]
     },
     "metadata": {},
     "output_type": "display_data"
    },
    {
     "data": {
      "text/plain": [
       "<Figure size 432x288 with 0 Axes>"
      ]
     },
     "metadata": {},
     "output_type": "display_data"
    },
    {
     "data": {
      "text/plain": [
       "<Figure size 432x288 with 0 Axes>"
      ]
     },
     "metadata": {},
     "output_type": "display_data"
    },
    {
     "data": {
      "text/plain": [
       "<Figure size 432x288 with 0 Axes>"
      ]
     },
     "metadata": {},
     "output_type": "display_data"
    },
    {
     "data": {
      "text/plain": [
       "<Figure size 432x288 with 0 Axes>"
      ]
     },
     "metadata": {},
     "output_type": "display_data"
    },
    {
     "data": {
      "text/plain": [
       "<Figure size 432x288 with 0 Axes>"
      ]
     },
     "metadata": {},
     "output_type": "display_data"
    },
    {
     "data": {
      "text/plain": [
       "<Figure size 432x288 with 0 Axes>"
      ]
     },
     "metadata": {},
     "output_type": "display_data"
    },
    {
     "data": {
      "text/plain": [
       "<Figure size 432x288 with 0 Axes>"
      ]
     },
     "metadata": {},
     "output_type": "display_data"
    },
    {
     "data": {
      "text/plain": [
       "<Figure size 432x288 with 0 Axes>"
      ]
     },
     "metadata": {},
     "output_type": "display_data"
    },
    {
     "data": {
      "text/plain": [
       "<Figure size 432x288 with 0 Axes>"
      ]
     },
     "metadata": {},
     "output_type": "display_data"
    },
    {
     "data": {
      "text/plain": [
       "<Figure size 432x288 with 0 Axes>"
      ]
     },
     "metadata": {},
     "output_type": "display_data"
    },
    {
     "data": {
      "text/plain": [
       "<Figure size 432x288 with 0 Axes>"
      ]
     },
     "metadata": {},
     "output_type": "display_data"
    },
    {
     "data": {
      "text/plain": [
       "<Figure size 432x288 with 0 Axes>"
      ]
     },
     "metadata": {},
     "output_type": "display_data"
    },
    {
     "data": {
      "text/plain": [
       "<Figure size 432x288 with 0 Axes>"
      ]
     },
     "metadata": {},
     "output_type": "display_data"
    },
    {
     "data": {
      "text/plain": [
       "<Figure size 432x288 with 0 Axes>"
      ]
     },
     "metadata": {},
     "output_type": "display_data"
    },
    {
     "data": {
      "text/plain": [
       "<Figure size 432x288 with 0 Axes>"
      ]
     },
     "metadata": {},
     "output_type": "display_data"
    },
    {
     "data": {
      "text/plain": [
       "<Figure size 432x288 with 0 Axes>"
      ]
     },
     "metadata": {},
     "output_type": "display_data"
    },
    {
     "data": {
      "text/plain": [
       "<Figure size 432x288 with 0 Axes>"
      ]
     },
     "metadata": {},
     "output_type": "display_data"
    },
    {
     "data": {
      "text/plain": [
       "<Figure size 432x288 with 0 Axes>"
      ]
     },
     "metadata": {},
     "output_type": "display_data"
    },
    {
     "data": {
      "text/plain": [
       "<Figure size 432x288 with 0 Axes>"
      ]
     },
     "metadata": {},
     "output_type": "display_data"
    },
    {
     "data": {
      "text/plain": [
       "<Figure size 432x288 with 0 Axes>"
      ]
     },
     "metadata": {},
     "output_type": "display_data"
    },
    {
     "data": {
      "text/plain": [
       "<Figure size 432x288 with 0 Axes>"
      ]
     },
     "metadata": {},
     "output_type": "display_data"
    },
    {
     "data": {
      "text/plain": [
       "<Figure size 432x288 with 0 Axes>"
      ]
     },
     "metadata": {},
     "output_type": "display_data"
    },
    {
     "data": {
      "text/plain": [
       "<Figure size 432x288 with 0 Axes>"
      ]
     },
     "metadata": {},
     "output_type": "display_data"
    },
    {
     "data": {
      "text/plain": [
       "<Figure size 432x288 with 0 Axes>"
      ]
     },
     "metadata": {},
     "output_type": "display_data"
    },
    {
     "data": {
      "text/plain": [
       "<Figure size 432x288 with 0 Axes>"
      ]
     },
     "metadata": {},
     "output_type": "display_data"
    },
    {
     "data": {
      "text/plain": [
       "<Figure size 432x288 with 0 Axes>"
      ]
     },
     "metadata": {},
     "output_type": "display_data"
    },
    {
     "data": {
      "text/plain": [
       "<Figure size 432x288 with 0 Axes>"
      ]
     },
     "metadata": {},
     "output_type": "display_data"
    },
    {
     "data": {
      "text/plain": [
       "<Figure size 432x288 with 0 Axes>"
      ]
     },
     "metadata": {},
     "output_type": "display_data"
    },
    {
     "data": {
      "text/plain": [
       "<Figure size 432x288 with 0 Axes>"
      ]
     },
     "metadata": {},
     "output_type": "display_data"
    },
    {
     "data": {
      "text/plain": [
       "<Figure size 432x288 with 0 Axes>"
      ]
     },
     "metadata": {},
     "output_type": "display_data"
    },
    {
     "data": {
      "text/plain": [
       "<Figure size 432x288 with 0 Axes>"
      ]
     },
     "metadata": {},
     "output_type": "display_data"
    },
    {
     "data": {
      "text/plain": [
       "<Figure size 432x288 with 0 Axes>"
      ]
     },
     "metadata": {},
     "output_type": "display_data"
    },
    {
     "data": {
      "text/plain": [
       "<Figure size 432x288 with 0 Axes>"
      ]
     },
     "metadata": {},
     "output_type": "display_data"
    },
    {
     "data": {
      "image/png": "[encoded data removed]",
      "text/plain": [
       "<Figure size 432x288 with 1 Axes>"
      ]
     },
     "metadata": {},
     "output_type": "display_data"
    }
   ],
   "source": [
    "xlabel = \"Expectation\"\n",
    "ylable = \"Density\"\n",
    "import seaborn as sns\n",
    "import os\n",
    "sns.set()\n",
    "from matplotlib.ticker import PercentFormatter\n",
    "\n",
    "bin_num = 10\n",
    "\n",
    "\n",
    "font_family = {'family': 'Times New Roman', 'size': 14}\n",
    "font_size = {'ax_label': 24, 'ax_tick': 22, 'inner_tick': 14, 'text': 15, 'legend': 12}\n",
    "line_args = {'marker': 'o', 'markevery': bin_num, 'ls': '--', 'mfc': 'blue', 'mec': 'k'}\n",
    "\n",
    "sufix = 'quant' if quant else 'full-precision'\n",
    "base_path = 'log/' + model_name + '/' + sufix + \"/\"\n",
    "\n",
    "if not os.path.exists(base_path):\n",
    "    os.makedirs(base_path)\n",
    "\n",
    "def draw_handle(name, data):\n",
    "    plt.clf()\n",
    "    fig, ax = plt.subplots()\n",
    "    # plt.hist(data)\n",
    "    # ax = plt.subplot()\n",
    "    binw = 1\n",
    "    g = sns.histplot(data.flatten(), kde=True, fill=True, stat='probability', line_kws=line_args)\n",
    "    g.lines[0].set_color('crimson')\n",
    "\n",
    "    # STEM PLOT https://github.com/mwaskom/seaborn/issues/2344\n",
    "    points = g.lines[0].get_path().vertices\n",
    "    x, y = np.split(points, 2, 1)\n",
    "    x = x[np.arange(0, len(x), int(len(x)/bin_num))]\n",
    "    y = y[np.arange(0, len(y), int(len(y)/bin_num))]\n",
    "    # plt.stem(x, y, linefmt ='g--', markerfmt='b')\n",
    "    # STEM PLOT\n",
    "\n",
    "    # sns.displot(data.flatten(), kde=True)\n",
    "    # g = sns.kdeplot(data.flatten(), color='red', marker='o', markevery=10, linestyle=':')\n",
    "    # g.yaxis.set_major_formatter(PercentFormatter(1 / binw))\n",
    "    # sns.distplot(data.flatten(), kde=True, hist=False, norm_hist=True)\n",
    "    # plt.hist(data.flatten(), density=True)\n",
    "    # plt.xlabel(xlabel, fontdict=font_family)\n",
    "    # plt.ylabel(ylable, fontdict=font_family)\n",
    "    ax.set(ylabel=None)\n",
    "    plt.grid(True, alpha=0.5, linestyle='-.')\n",
    "    plt.title(name, fontdict=font_family)\n",
    "    plt.tick_params(labelsize=12)\n",
    "    plt.tight_layout()\n",
    "    # plt.show()\n",
    "    print(base_path + name + '.pdf')\n",
    "    plt.savefig(base_path + name + '.pdf')\n",
    "\n",
    "for name, param in model.named_parameters():\n",
    "    # draw_handle(name.split('.')[0] + '.weight', param.data.numpy())\n",
    "    # draw_handle(name.split('.')[0] + '.weight_grad', param.grad.numpy())\n",
    "\n",
    "    draw_handle(name, param.data.numpy())\n",
    "    draw_handle(name + '_grad', param.grad.numpy())\n",
    "\n",
    "    # logger.add_histogram(name, param.data.numpy(), global_iter_num)\n",
    "    # logger.add_histogram(name+\"_grad\", param.grad.numpy(), global_iter_num)\n",
    "for name, module in model.named_modules():\n",
    "    draw_handle(name + '.act', activations[name])\n",
    "\n",
    "    # logger.add_histogram(name, activations[name], global_iter_num)"
   ]
  }
 ],
 "metadata": {
  "kernelspec": {
   "display_name": "Python 3.8.5 ('base')",
   "language": "python",
   "name": "python3"
  },
  "language_info": {
   "codemirror_mode": {
    "name": "ipython",
    "version": 3
   },
   "file_extension": ".py",
   "mimetype": "text/x-python",
   "name": "python",
   "nbconvert_exporter": "python",
   "pygments_lexer": "ipython3",
   "version": "3.8.5"
  },
  "orig_nbformat": 4,
  "vscode": {
   "interpreter": {
    "hash": "f8e35784da7b5309346b9948007e2c8e432cfca57e220859a198433798687959"
   }
  }
 },
 "nbformat": 4,
 "nbformat_minor": 2
}
