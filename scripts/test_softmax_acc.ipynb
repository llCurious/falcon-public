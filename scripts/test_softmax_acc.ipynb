{
 "cells": [
  {
   "cell_type": "code",
   "execution_count": 6,
   "metadata": {},
   "outputs": [
    {
     "name": "stdout",
     "output_type": "stream",
     "text": [
      "[[0.61762686 0.0342001  0.02221724 0.07593597 0.02961045 0.02518505\n",
      "  0.07787013 0.04264032 0.03133982 0.04337406]\n",
      " [0.07585606 0.19268342 0.05034063 0.08103407 0.09004115 0.03654442\n",
      "  0.09652534 0.10700318 0.0868849  0.18308683]\n",
      " [0.13332502 0.11849893 0.0567541  0.10613299 0.10576185 0.04624202\n",
      "  0.1092097  0.1020745  0.07403796 0.14796295]]\n"
     ]
    }
   ],
   "source": [
    "import numpy as np\n",
    "from scipy.special import softmax\n",
    "\n",
    "# def softmax(x):\n",
    "#     exp_x = np.exp(x)\n",
    "#     softmax_x = exp_x / np.sum(exp_x)\n",
    "#     return softmax_x\n",
    "\n",
    "data = [[2.60365, -0.290006, -0.721366, 0.507656, -0.434107, -0.595984, 0.532808, -0.0694342, -0.377345, -0.0523729],\n",
    "        [-0.124932, 0.807279, -0.534957, -0.0588999, 0.0464973, -0.855241, 0.116036, 0.219089, 0.0108147, 0.756191],\n",
    "       [ 0.41907, 0.301184, -0.434992, 0.190973, 0.18747, -0.639831, 0.21955, 0.151983, -0.169142, 0.523242]]\n",
    "\n",
    "# y = softmax(data)\n",
    "y = softmax(data,axis=1)\n",
    "\n",
    "print(y)"
   ]
  }
 ],
 "metadata": {
  "interpreter": {
   "hash": "31f2aee4e71d21fbe5cf8b01ff0e069b9275f58929596ceb00d14d90e3e16cd6"
  },
  "kernelspec": {
   "display_name": "Python 3.8.10 64-bit",
   "language": "python",
   "name": "python3"
  },
  "language_info": {
   "codemirror_mode": {
    "name": "ipython",
    "version": 3
   },
   "file_extension": ".py",
   "mimetype": "text/x-python",
   "name": "python",
   "nbconvert_exporter": "python",
   "pygments_lexer": "ipython3",
   "version": "3.8.10"
  },
  "orig_nbformat": 4
 },
 "nbformat": 4,
 "nbformat_minor": 2
}
