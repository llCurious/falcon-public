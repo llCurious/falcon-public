{
 "cells": [
  {
   "cell_type": "code",
   "execution_count": 9,
   "metadata": {},
   "outputs": [
    {
     "name": "stdout",
     "output_type": "stream",
     "text": [
      "[[0.61762686 0.0342001  0.02221724 0.07593597 0.02961045 0.02518505\n",
      "  0.07787013 0.04264032 0.03133982 0.04337406]\n",
      " [0.07585606 0.19268342 0.05034063 0.08103407 0.09004115 0.03654442\n",
      "  0.09652534 0.10700318 0.0868849  0.18308683]\n",
      " [0.13332502 0.11849893 0.0567541  0.10613299 0.10576185 0.04624202\n",
      "  0.1092097  0.1020745  0.07403796 0.14796295]]\n"
     ]
    }
   ],
   "source": [
    "# test\n",
    "import numpy as np\n",
    "from scipy.special import softmax\n",
    "\n",
    "# def softmax(x):\n",
    "#     exp_x = np.exp(x)\n",
    "#     softmax_x = exp_x / np.sum(exp_x)\n",
    "#     return softmax_x\n",
    "\n",
    "data = [[2.60365, -0.290006, -0.721366, 0.507656, -0.434107, -0.595984, 0.532808, -0.0694342, -0.377345, -0.0523729],\n",
    "        [-0.124932, 0.807279, -0.534957, -0.0588999, 0.0464973, -0.855241, 0.116036, 0.219089, 0.0108147, 0.756191],\n",
    "       [ 0.41907, 0.301184, -0.434992, 0.190973, 0.18747, -0.639831, 0.21955, 0.151983, -0.169142, 0.523242]]\n",
    "\n",
    "# y = softmax(data)\n",
    "y = softmax(data,axis=1)\n",
    "\n",
    "print(y)"
   ]
  },
  {
   "cell_type": "code",
   "execution_count": 10,
   "metadata": {},
   "outputs": [],
   "source": [
    "# get input\n",
    "import csv\n",
    "import random\n",
    "\n",
    "filename = \"test_data/soft_input.csv\"\n",
    "B = 1000\n",
    "d = 200\n",
    "\n",
    "with open(filename,'w') as csvred:\n",
    "    spam = csv.writer(csvred,delimiter=' ')\n",
    "\n",
    "    line = [] # x\n",
    "    for b in range(0,B):\n",
    "        for i in range(0,d):\n",
    "            if(random.randint(0,2)==0):\n",
    "                line.append(random.randint(1,8)/random.randint(6,8))\n",
    "            else:\n",
    "                line.append(-random.randint(1,8)/random.randint(6,8))\n",
    "    spam.writerow(line)"
   ]
  },
  {
   "cell_type": "code",
   "execution_count": 16,
   "metadata": {},
   "outputs": [],
   "source": [
    "# read input\n",
    "import torch\n",
    "import numpy as np\n",
    "\n",
    "B = 3\n",
    "d = 10\n",
    "\n",
    "filename = \"test_data/soft_input.csv\"\n",
    "# j = 0\n",
    "with open(filename,'r') as csvred:\n",
    "    spam = csv.reader(csvred,delimiter=' ')\n",
    "    for row in spam:\n",
    "        data = []\n",
    "        for b in range(0,B):\n",
    "            line = []\n",
    "            for i in range(0,d):\n",
    "                line.append(row[b*d+i])\n",
    "            data.append(line)\n",
    "        data = np.array(data).astype(np.float32)\n",
    "        x_raw = torch.from_numpy(data)\n",
    "        x = x_raw.numpy()"
   ]
  },
  {
   "cell_type": "code",
   "execution_count": 12,
   "metadata": {},
   "outputs": [],
   "source": [
    "# record output\n",
    "import numpy as np\n",
    "from scipy.special import softmax\n",
    "\n",
    "outf = \"test_data/soft_output_plain.csv\"\n",
    "y = softmax(data,axis=1)\n",
    "\n",
    "with open(outf,'w') as csvred:\n",
    "    spam = csv.writer(csvred)\n",
    "    spam.writerows(y)"
   ]
  },
  {
   "cell_type": "code",
   "execution_count": null,
   "metadata": {},
   "outputs": [],
   "source": [
    "# caculate acc\n",
    "import numpy as np\n",
    "import csv\n",
    "from sklearn import metrics\n",
    "\n",
    "def acc(x1,x2):\n",
    "    xmse = metrics.mean_squared_error(x1, x2)\n",
    "    xmae = metrics.mean_absolute_error(x1, x2)    \n",
    "    print(xmse)\n",
    "    print(xmae)\n",
    "\n",
    "# x_forward,x_grad, gamma_grad, beta_grad\n",
    "out1 = \"test_data/soft_output.csv\"\n",
    "out2 = \"test_data/soft_output2.csv\"\n",
    "y1 = []\n",
    "y2 = []\n",
    "\n",
    "with open(out1,'r') as csvred:\n",
    "    spam = list(csv.reader(csvred,delimiter=','))\n",
    "    for b in range(0,B):\n",
    "        for i in range(0,d):\n",
    "            y1.append(float(spam[b][i]))\n",
    "\n",
    "print(y1)\n",
    "\n",
    "with open(out2,'r') as csvred:\n",
    "    spam = list(csv.reader(csvred,delimiter=','))\n",
    "    for b in range(0,B):\n",
    "        for i in range(0,d):\n",
    "            y2.append(float(spam[b][i]))\n",
    "\n",
    "print(y2)\n",
    "\n",
    "acc(y1,y2)"
   ]
  }
 ],
 "metadata": {
  "interpreter": {
   "hash": "31f2aee4e71d21fbe5cf8b01ff0e069b9275f58929596ceb00d14d90e3e16cd6"
  },
  "kernelspec": {
   "display_name": "Python 3.8.10 64-bit",
   "language": "python",
   "name": "python3"
  },
  "language_info": {
   "codemirror_mode": {
    "name": "ipython",
    "version": 3
   },
   "file_extension": ".py",
   "mimetype": "text/x-python",
   "name": "python",
   "nbconvert_exporter": "python",
   "pygments_lexer": "ipython3",
   "version": "3.8.10"
  },
  "orig_nbformat": 4
 },
 "nbformat": 4,
 "nbformat_minor": 2
}
